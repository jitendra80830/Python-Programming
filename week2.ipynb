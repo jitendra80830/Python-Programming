{
 "cells": [
  {
   "cell_type": "code",
   "execution_count": 5,
   "metadata": {},
   "outputs": [
    {
     "name": "stdout",
     "output_type": "stream",
     "text": [
      "['blue', 'red', 'green', 'yellow']\n"
     ]
    }
   ],
   "source": [
    "#LIST:\n",
    "colors=['blue','red','green','yellow']\n",
    "print(colors)"
   ]
  },
  {
   "cell_type": "code",
   "execution_count": 19,
   "metadata": {},
   "outputs": [
    {
     "name": "stdout",
     "output_type": "stream",
     "text": [
      "blue\n",
      "Blue\n",
      "red\n",
      "green\n",
      "yellow\n",
      "yellow\n"
     ]
    }
   ],
   "source": [
    "#accessing elemenet in a list\n",
    "colors=['blue','red','green','yellow']\n",
    "print(colors[0])\n",
    "print(colors[0].title())\n",
    "print(colors[1])\n",
    "print(colors[2])\n",
    "print(colors[3])\n",
    "print(colors[-1])"
   ]
  },
  {
   "cell_type": "code",
   "execution_count": 29,
   "metadata": {},
   "outputs": [
    {
     "name": "stdout",
     "output_type": "stream",
     "text": [
      "my favorite color is a Blue:\n",
      "my favorite teacher is a Ranjan Sir:\n"
     ]
    }
   ],
   "source": [
    "#using individual value from list\n",
    "colors=['blue','red','green','yellow']\n",
    "message=f\"my favorite color is a {colors[0].title()}:\"\n",
    "print(message)\n",
    "\n",
    "teachers=['dip sir','ranjan sir','saswati mam','tamali mam','himansu sir','suvjit sir']\n",
    "messagge=f\"my favorite teacher is a {teachers[1].title()}:\"\n",
    "print(messagge)"
   ]
  },
  {
   "cell_type": "code",
   "execution_count": 31,
   "metadata": {},
   "outputs": [
    {
     "name": "stdout",
     "output_type": "stream",
     "text": [
      "['honda', 'yamaha', 'sizuki']\n",
      "['ducati', 'yamaha', 'sizuki']\n"
     ]
    }
   ],
   "source": [
    "#changing,addind and removing elements:-\n",
    "#examle of adding\n",
    "motorcycles=['honda','yamaha','sizuki']\n",
    "print(motorcycles)\n",
    "motorcycles[0]='ducati'\n",
    "print(motorcycles)"
   ]
  },
  {
   "cell_type": "code",
   "execution_count": 36,
   "metadata": {},
   "outputs": [
    {
     "name": "stdout",
     "output_type": "stream",
     "text": [
      "['honda', 'yamaha', 'sizuki']\n",
      "['honda', 'yamaha', 'sizuki', 'ducati']\n",
      "['chapati', 'pulse', 'fish']\n",
      "['chapati', 'pulse', 'fish', 'chiken']\n"
     ]
    }
   ],
   "source": [
    "#appending element to the end of the list:\n",
    "motorcycles=['honda','yamaha','sizuki']\n",
    "print(motorcycles)\n",
    "motorcycles.append('ducati')\n",
    "print(motorcycles)\n",
    "\n",
    "dinner=['chapati','pulse','fish']\n",
    "print(dinner)\n",
    "dinner.append('chiken')\n",
    "print(dinner)"
   ]
  },
  {
   "cell_type": "code",
   "execution_count": 41,
   "metadata": {},
   "outputs": [
    {
     "name": "stdout",
     "output_type": "stream",
     "text": [
      "['honda', 'yamaha', 'sizuki']\n",
      "['ducati', 'honda', 'yamaha', 'sizuki']\n",
      "['ducati', 'boloro', 'honda', 'yamaha', 'sizuki']\n",
      "['ducati', 'boloro', 'marutti', 'honda', 'yamaha', 'sizuki']\n"
     ]
    }
   ],
   "source": [
    "#inserting element into a list:\n",
    "motorcycles=['honda','yamaha','sizuki']\n",
    "print(motorcycles)\n",
    "motorcycles.insert(0,'ducati')\n",
    "print(motorcycles)\n",
    "motorcycles.insert(1,'boloro')\n",
    "print(motorcycles)\n",
    "motorcycles.insert(2,'marutti')\n",
    "print(motorcycles)"
   ]
  },
  {
   "cell_type": "code",
   "execution_count": 46,
   "metadata": {},
   "outputs": [
    {
     "name": "stdout",
     "output_type": "stream",
     "text": [
      "['honda', 'yamaha', 'sizuki', 'ducati', 'boloro']\n",
      "['yamaha', 'sizuki', 'ducati', 'boloro']\n",
      "['yamaha', 'ducati', 'boloro']\n",
      "['yamaha', 'ducati']\n"
     ]
    }
   ],
   "source": [
    "#Removing an item using the del statemenat:\n",
    "motorcycles=['honda','yamaha','sizuki','ducati','boloro']\n",
    "print(motorcycles)\n",
    "del motorcycles[0]\n",
    "print(motorcycles)\n",
    "del motorcycles[1]\n",
    "print(motorcycles)\n",
    "del motorcycles[2]\n",
    "print(motorcycles)"
   ]
  },
  {
   "cell_type": "code",
   "execution_count": 61,
   "metadata": {},
   "outputs": [
    {
     "name": "stdout",
     "output_type": "stream",
     "text": [
      "['honda', 'yamaha', 'sizuki', 'ducati', 'boloro']\n",
      "['honda', 'yamaha', 'sizuki', 'ducati']\n",
      "boloro\n",
      "['bue', 'red', 'black', 'white', 'green']\n",
      "['bue', 'red', 'black', 'white']\n",
      "green\n",
      "['cricket', 'hocky', 'football', 'ludo', 'chase']\n",
      "['hocky', 'football', 'ludo', 'chase']\n",
      "cricket\n",
      "['hocky', 'ludo', 'chase']\n",
      "football\n"
     ]
    }
   ],
   "source": [
    "#Removing an item using the pop method:\n",
    "motorcycles=['honda','yamaha','sizuki','ducati','boloro']\n",
    "print(motorcycles)\n",
    "popped_motorcycles=motorcycles.pop()\n",
    "print(motorcycles)\n",
    "print(popped_motorcycles)\n",
    "colors=['bue','red','black','white','green']\n",
    "print(colors)\n",
    "popped_colors=colors.pop()\n",
    "print(colors)\n",
    "print(popped_colors)\n",
    "\n",
    "games=['cricket','hocky','football','ludo','chase']\n",
    "print(games)\n",
    "popped_games=games.pop(0) #for any posssition popped\n",
    "print(games)\n",
    "print(popped_games)\n",
    "popped_games=games.pop(1) #for any posssition popped\n",
    "print(games)\n",
    "print(popped_games)\n"
   ]
  },
  {
   "cell_type": "code",
   "execution_count": 72,
   "metadata": {},
   "outputs": [
    {
     "name": "stdout",
     "output_type": "stream",
     "text": [
      "['honda', 'yamaha', 'sizuki', 'ducati', 'boloro']\n",
      "['yamaha', 'sizuki', 'ducati', 'boloro']\n",
      "['yamaha', 'ducati', 'boloro']\n",
      "['yamaha', 'ducati']\n",
      "['yamaha']\n",
      "A Ducati is too expensive for me:\n"
     ]
    }
   ],
   "source": [
    "#Removing an items by value:\n",
    "motorcycles=['honda','yamaha','sizuki','ducati','boloro']\n",
    "print(motorcycles)\n",
    "motorcycles.remove('honda')\n",
    "print(motorcycles)\n",
    "motorcycles.remove('sizuki')\n",
    "print(motorcycles)\n",
    "motorcycles.remove('boloro')\n",
    "print(motorcycles)\n",
    "\n",
    "too_expensive='ducati'\n",
    "motorcycles.remove(too_expensive)\n",
    "print(motorcycles)\n",
    "print(f\"A {too_expensive.title()} is too expensive for me:\")"
   ]
  },
  {
   "cell_type": "code",
   "execution_count": 87,
   "metadata": {},
   "outputs": [
    {
     "name": "stdout",
     "output_type": "stream",
     "text": [
      "['blue', 'red', 'green', 'yellow']\n",
      "['blue', 'green', 'red', 'yellow']\n",
      "['yellow', 'red', 'green', 'blue']\n"
     ]
    }
   ],
   "source": [
    "#sorting a list permanently using the sort method:\n",
    "colors=['blue','red','green','yellow']\n",
    "print(colors)\n",
    "colors.sort()\n",
    "print(colors)\n",
    "\n",
    "colors.sort(reverse=True) # for reverse item and here true taken first letter capital\n",
    "print(colors)\n"
   ]
  },
  {
   "cell_type": "code",
   "execution_count": 111,
   "metadata": {},
   "outputs": [
    {
     "name": "stdout",
     "output_type": "stream",
     "text": [
      "Here is the original list\n",
      "['bmw', 'audi', 'suzuki', 'subaru']\n",
      "Here is the sorted list\n",
      "['audi', 'bmw', 'subaru', 'suzuki']\n",
      "Here is the original list again\n",
      "['bmw', 'audi', 'suzuki', 'subaru']\n"
     ]
    }
   ],
   "source": [
    "#sorting a list temprorary using the sorted funtion\n",
    "cars=['bmw','audi','suzuki','subaru']\n",
    "print(\"Here is the original list\")\n",
    "print(cars)\n",
    "\n",
    "print(\"Here is the sorted list\")\n",
    "print(sorted(cars))\n",
    "print(\"Here is the original list again\")\n",
    "print(cars)"
   ]
  },
  {
   "cell_type": "code",
   "execution_count": 113,
   "metadata": {},
   "outputs": [
    {
     "name": "stdout",
     "output_type": "stream",
     "text": [
      "['bmw', 'audi', 'suzuki', 'subaru']\n",
      "['subaru', 'suzuki', 'audi', 'bmw']\n"
     ]
    }
   ],
   "source": [
    "#printing a list in reverse order\n",
    "cars=['bmw','audi','suzuki','subaru']\n",
    "print(cars)\n",
    "\n",
    "cars.reverse()\n",
    "print(cars)"
   ]
  },
  {
   "cell_type": "code",
   "execution_count": 117,
   "metadata": {},
   "outputs": [
    {
     "name": "stdout",
     "output_type": "stream",
     "text": [
      "4\n",
      "7\n"
     ]
    }
   ],
   "source": [
    "#finding the length of list:\n",
    "cars=['bmw','audi','suzuki','subaru']\n",
    "print(len(cars))\n",
    "letters=['a','b','c','d','e','f','g']\n",
    "print(len(letters))"
   ]
  },
  {
   "cell_type": "code",
   "execution_count": 6,
   "metadata": {},
   "outputs": [
    {
     "name": "stdout",
     "output_type": "stream",
     "text": [
      "['january', 'february', 'march', 'april', 'may', 'june', 'july', 'august', 'september', 'october', 'november', 'december']\n",
      "february\n",
      "june\n",
      "december\n"
     ]
    }
   ],
   "source": [
    "# solution of lecture 4\n",
    "#1-creat a list and print its elements\n",
    "months=['january','february','march','april','may','june','july','august','september','october','november','december']\n",
    "print(months)\n",
    "print(months[1])\n",
    "print(months[5])\n",
    "print(months[-1])"
   ]
  },
  {
   "cell_type": "code",
   "execution_count": 10,
   "metadata": {},
   "outputs": [
    {
     "name": "stdout",
     "output_type": "stream",
     "text": [
      "['sunday', 'momday', 'tuesday', 'wednesday', 'thursday', 'friday', 'saturday']\n",
      "Tuesday\n",
      "Thursday\n"
     ]
    }
   ],
   "source": [
    "#2-print list element in title  case\n",
    "days=['sunday','momday','tuesday','wednesday','thursday','friday','saturday']\n",
    "print(days)\n",
    "print(days[2].title())\n",
    "print(days[4].title())"
   ]
  },
  {
   "cell_type": "code",
   "execution_count": 15,
   "metadata": {},
   "outputs": [
    {
     "name": "stdout",
     "output_type": "stream",
     "text": [
      "['one', 'two', 'three', 'four', 'five', 'six', 'seven', 'eight', 'nine']\n",
      "One:\n",
      "Two:\n",
      "Three:\n"
     ]
    }
   ],
   "source": [
    "#3   print list item with format\n",
    "numberlist=['one','two','three','four','five','six','seven','eight','nine']\n",
    "print(numberlist)\n",
    "message=f\"{numberlist[0].title()}:\"\n",
    "print(message)\n",
    "message=f\"{numberlist[1].title()}:\"\n",
    "print(message)\n",
    "message=f\"{numberlist[2].title()}:\"\n",
    "print(message)"
   ]
  },
  {
   "cell_type": "code",
   "execution_count": 21,
   "metadata": {},
   "outputs": [
    {
     "name": "stdout",
     "output_type": "stream",
     "text": [
      "[1, 3, 5, 7]\n",
      "[1, 3, 5, 7, 9]\n",
      "[1, 3, 5, 7, 9, 11]\n"
     ]
    }
   ],
   "source": [
    "#4\n",
    "oddnumber=[1,3,5,7]\n",
    "print(oddnumber)\n",
    "\n",
    "oddnumber.append(9)\n",
    "print(oddnumber)\n",
    "\n",
    "oddnumber.append(11)\n",
    "print(oddnumber)"
   ]
  },
  {
   "cell_type": "code",
   "execution_count": 22,
   "metadata": {},
   "outputs": [
    {
     "name": "stdout",
     "output_type": "stream",
     "text": [
      "['chapatti', 'pulse', 'rice', 'fish', 'chiken']\n"
     ]
    }
   ],
   "source": [
    "#5 empyt list\n",
    "dinner=[]\n",
    "dinner.append('chapatti')\n",
    "dinner.append('pulse')\n",
    "dinner.append('rice')\n",
    "dinner.append('fish')\n",
    "dinner.append('chiken')\n",
    "print(dinner)"
   ]
  },
  {
   "cell_type": "code",
   "execution_count": 24,
   "metadata": {},
   "outputs": [
    {
     "name": "stdout",
     "output_type": "stream",
     "text": [
      "['arun', 'gaurav', 'mans', 'shayam', 'veer']\n",
      "['arun', 'gaurav', 'mans', 'swati', 'shayam', 'veer']\n"
     ]
    }
   ],
   "source": [
    "#5 insert method\n",
    "students=['arun','gaurav','mans','shayam','veer']\n",
    "print(students)\n",
    "students.insert(3,'swati')\n",
    "print(students)"
   ]
  },
  {
   "cell_type": "code",
   "execution_count": 29,
   "metadata": {},
   "outputs": [
    {
     "name": "stdout",
     "output_type": "stream",
     "text": [
      "['arun', 'gaurav', 'mans', 'shayam', 'veer']\n",
      "['gaurav', 'mans', 'shayam', 'veer']\n",
      "['mans', 'shayam', 'veer']\n"
     ]
    }
   ],
   "source": [
    "#6 remove the ele......\n",
    "students=['arun','gaurav','mans','shayam','veer']\n",
    "print(students)\n",
    "del students[0] # by index\n",
    "print(students)\n",
    "students.remove('gaurav') # by value\n",
    "print(students)"
   ]
  },
  {
   "cell_type": "code",
   "execution_count": 32,
   "metadata": {},
   "outputs": [
    {
     "name": "stdout",
     "output_type": "stream",
     "text": [
      "['10', '15', '27', '41,64', '83']\n",
      "['10', '15', '27', '41,64']\n",
      "83\n"
     ]
    }
   ],
   "source": [
    "#7 Remove the item and print removeed value:\n",
    "numbers=['10','15','27','41,64','83']\n",
    "print(numbers)\n",
    "popped_numbers=numbers.pop()\n",
    "print(numbers)\n",
    "print(popped_numbers)"
   ]
  },
  {
   "cell_type": "code",
   "execution_count": 34,
   "metadata": {},
   "outputs": [
    {
     "name": "stdout",
     "output_type": "stream",
     "text": [
      "['arun', 'gaurav', 'mans', 'shayam', 'veer']\n",
      "['arun', 'mans', 'shayam', 'veer']\n",
      "Gaurav was notb able to pass his annual exam:\n"
     ]
    }
   ],
   "source": [
    "#8 remove element by value\n",
    "students=['arun','gaurav','mans','shayam','veer']\n",
    "print(students)\n",
    "annual_exam='gaurav'\n",
    "students.remove(annual_exam)\n",
    "print(students)\n",
    "print(f\"{annual_exam.title()} was notb able to pass his annual exam:\")"
   ]
  },
  {
   "cell_type": "code",
   "execution_count": 41,
   "metadata": {},
   "outputs": [
    {
     "name": "stdout",
     "output_type": "stream",
     "text": [
      "['radhe', 'sonu', 'pankaj', 'rohan', 'ganma', 'meenu', 'ajay', 'prashad', 'anand']\n",
      "['ajay', 'anand', 'ganma', 'meenu', 'pankaj', 'prashad', 'radhe', 'rohan', 'sonu']\n",
      "['sonu', 'rohan', 'radhe', 'prashad', 'pankaj', 'meenu', 'ganma', 'anand', 'ajay']\n"
     ]
    }
   ],
   "source": [
    "#9 sort the list:\n",
    "persons=['radhe','sonu','pankaj','rohan','ganma','meenu','ajay','prashad','anand']\n",
    "print(persons)\n",
    "\n",
    "persons.sort()\n",
    "print(persons)\n",
    "\n",
    "persons.sort(reverse=True)\n",
    "print(persons)"
   ]
  },
  {
   "cell_type": "code",
   "execution_count": 45,
   "metadata": {},
   "outputs": [
    {
     "name": "stdout",
     "output_type": "stream",
     "text": [
      "Here is the original list\n",
      "['radhe', 'sonu', 'pankaj', 'rohan', 'ganma', 'meenu', 'ajay', 'prashad', 'anand']\n",
      "Here is the sorted list\n",
      "['ajay', 'anand', 'ganma', 'meenu', 'pankaj', 'prashad', 'radhe', 'rohan', 'sonu']\n",
      "Here is the original list again\n",
      "['radhe', 'sonu', 'pankaj', 'rohan', 'ganma', 'meenu', 'ajay', 'prashad', 'anand']\n"
     ]
    }
   ],
   "source": [
    "#10 printer pemporaray a list:\n",
    "persons=['radhe','sonu','pankaj','rohan','ganma','meenu','ajay','prashad','anand']\n",
    "print(\"Here is the original list\")\n",
    "print(persons)\n",
    "\n",
    "print(\"Here is the sorted list\")\n",
    "print(sorted(persons))\n",
    "\n",
    "print(\"Here is the original list again\")\n",
    "print(persons)"
   ]
  },
  {
   "cell_type": "code",
   "execution_count": 47,
   "metadata": {},
   "outputs": [
    {
     "name": "stdout",
     "output_type": "stream",
     "text": [
      "['radhe', 'sonu', 'pankaj', 'rohan', 'ganma', 'meenu', 'ajay', 'prashad', 'anand']\n",
      "['anand', 'prashad', 'ajay', 'meenu', 'ganma', 'rohan', 'pankaj', 'sonu', 'radhe']\n"
     ]
    }
   ],
   "source": [
    "#11- print reverse order:\n",
    "persons=['radhe','sonu','pankaj','rohan','ganma','meenu','ajay','prashad','anand']\n",
    "print(persons)\n",
    "\n",
    "persons.reverse()\n",
    "print(persons)"
   ]
  },
  {
   "cell_type": "code",
   "execution_count": 52,
   "metadata": {},
   "outputs": [
    {
     "name": "stdout",
     "output_type": "stream",
     "text": [
      "('suresh', 'john', 'rohit', 'jitendra', 'sammir')\n",
      "length of the list:-\n",
      "5\n"
     ]
    }
   ],
   "source": [
    "#12-find length of a list:\n",
    "names=('suresh','john','rohit','jitendra','sammir')\n",
    "print(names)\n",
    "print(\"length of the list:-\")\n",
    "print(len(names))"
   ]
  },
  {
   "cell_type": "code",
   "execution_count": 20,
   "metadata": {},
   "outputs": [
    {
     "name": "stdout",
     "output_type": "stream",
     "text": [
      "alice\n",
      "david\n",
      "carolino\n"
     ]
    }
   ],
   "source": [
    "#WEEK 2\n",
    "#working with list\n",
    "\n",
    "magicians=['alice','david','carolino']\n",
    "for magician in magicians:\n",
    " print(magician)"
   ]
  },
  {
   "cell_type": "code",
   "execution_count": 25,
   "metadata": {},
   "outputs": [
    {
     "name": "stdout",
     "output_type": "stream",
     "text": [
      "Alice,that was great trick\n",
      "i can't wait to see your next trick,Alice\n",
      "\n",
      "thank you,everyone.that was a great magic show\n",
      "David,that was great trick\n",
      "i can't wait to see your next trick,David\n",
      "\n",
      "thank you,everyone.that was a great magic show\n",
      "Carolino,that was great trick\n",
      "i can't wait to see your next trick,Carolino\n",
      "\n",
      "thank you,everyone.that was a great magic show\n"
     ]
    }
   ],
   "source": [
    "#for loop\n",
    "magicians=['alice','david','carolino']\n",
    "for magician in magicians:\n",
    "    print(f\"{magician.title()},that was great trick\")\n",
    "    print(f\"i can't wait to see your next trick,{magician.title()}\\n\")\n",
    "    print(\"thank you,everyone.that was a great magic show\")"
   ]
  },
  {
   "cell_type": "code",
   "execution_count": 5,
   "metadata": {},
   "outputs": [
    {
     "name": "stdout",
     "output_type": "stream",
     "text": [
      "1\n",
      "2\n",
      "3\n",
      "4\n",
      "5\n"
     ]
    }
   ],
   "source": [
    "#using the range funtion\n",
    "for value in range(1,6):\n",
    "    print(value)"
   ]
  },
  {
   "cell_type": "code",
   "execution_count": 27,
   "metadata": {},
   "outputs": [
    {
     "name": "stdout",
     "output_type": "stream",
     "text": [
      "[1, 2, 3, 4, 5]\n",
      "\n",
      "\n",
      "[1, 2, 3, 4, 5, 6, 7, 8, 9, 10]\n"
     ]
    }
   ],
   "source": [
    "#using range to make a list\n",
    "numbers=list(range(1,6))\n",
    "print(numbers)\n",
    "\n",
    "even_numbers=list(range(1,11))\n",
    "print(\"\\n\")\n",
    "print(even_numbers)"
   ]
  },
  {
   "cell_type": "code",
   "execution_count": 1,
   "metadata": {},
   "outputs": [
    {
     "name": "stdout",
     "output_type": "stream",
     "text": [
      "[1, 4, 9, 16, 25, 36, 49, 64, 81, 100]\n"
     ]
    }
   ],
   "source": [
    "#for empty list\n",
    "square=[]\n",
    "for value in range(1,11,1):\n",
    "    square.append(value**2)\n",
    "print(square)"
   ]
  },
  {
   "cell_type": "code",
   "execution_count": 2,
   "metadata": {},
   "outputs": [
    {
     "ename": "AttributeError",
     "evalue": "'int' object has no attribute 'append'",
     "output_type": "error",
     "traceback": [
      "\u001b[1;31m---------------------------------------------------------------------------\u001b[0m",
      "\u001b[1;31mAttributeError\u001b[0m                            Traceback (most recent call last)",
      "\u001b[1;32m<ipython-input-2-99994fce34b2>\u001b[0m in \u001b[0;36m<module>\u001b[1;34m\u001b[0m\n\u001b[0;32m      2\u001b[0m \u001b[1;32mfor\u001b[0m \u001b[0mvalue\u001b[0m \u001b[1;32min\u001b[0m \u001b[0mrange\u001b[0m\u001b[1;33m(\u001b[0m\u001b[1;36m1\u001b[0m\u001b[1;33m,\u001b[0m\u001b[1;36m11\u001b[0m\u001b[1;33m,\u001b[0m\u001b[1;36m1\u001b[0m\u001b[1;33m)\u001b[0m\u001b[1;33m:\u001b[0m\u001b[1;33m\u001b[0m\u001b[1;33m\u001b[0m\u001b[0m\n\u001b[0;32m      3\u001b[0m     \u001b[0msquare\u001b[0m\u001b[1;33m=\u001b[0m\u001b[0mvalue\u001b[0m\u001b[1;33m**\u001b[0m\u001b[1;36m2\u001b[0m\u001b[1;33m\u001b[0m\u001b[1;33m\u001b[0m\u001b[0m\n\u001b[1;32m----> 4\u001b[1;33m     \u001b[0msquare\u001b[0m\u001b[1;33m.\u001b[0m\u001b[0mappend\u001b[0m\u001b[1;33m(\u001b[0m\u001b[0msquare\u001b[0m\u001b[1;33m)\u001b[0m\u001b[1;33m\u001b[0m\u001b[1;33m\u001b[0m\u001b[0m\n\u001b[0m\u001b[0;32m      5\u001b[0m \u001b[0mprint\u001b[0m\u001b[1;33m(\u001b[0m\u001b[0msquare\u001b[0m\u001b[1;33m)\u001b[0m\u001b[1;33m\u001b[0m\u001b[1;33m\u001b[0m\u001b[0m\n",
      "\u001b[1;31mAttributeError\u001b[0m: 'int' object has no attribute 'append'"
     ]
    }
   ],
   "source": [
    "square=[]\n",
    "for value in range(1,11,1):\n",
    "    square=value**2\n",
    "    square.append(square)\n",
    "print(square)"
   ]
  },
  {
   "cell_type": "code",
   "execution_count": 69,
   "metadata": {},
   "outputs": [
    {
     "data": {
      "text/plain": [
       "0"
      ]
     },
     "execution_count": 69,
     "metadata": {},
     "output_type": "execute_result"
    }
   ],
   "source": [
    "#numerical value\n",
    "digit=[1,2,3,4,5,6,7,8,9,0]\n",
    "min(digit)"
   ]
  },
  {
   "cell_type": "code",
   "execution_count": 62,
   "metadata": {},
   "outputs": [
    {
     "data": {
      "text/plain": [
       "45"
      ]
     },
     "execution_count": 62,
     "metadata": {},
     "output_type": "execute_result"
    }
   ],
   "source": [
    "digit=[1,2,3,4,5,6,7,8,9,0]\n",
    "sum(digit)"
   ]
  },
  {
   "cell_type": "code",
   "execution_count": 66,
   "metadata": {},
   "outputs": [
    {
     "data": {
      "text/plain": [
       "9"
      ]
     },
     "execution_count": 66,
     "metadata": {},
     "output_type": "execute_result"
    }
   ],
   "source": [
    "digit=[1,2,3,4,5,6,7,8,9,0]\n",
    "max(digit)"
   ]
  },
  {
   "cell_type": "code",
   "execution_count": 114,
   "metadata": {},
   "outputs": [
    {
     "name": "stdout",
     "output_type": "stream",
     "text": [
      "[1, 8, 27]\n"
     ]
    }
   ],
   "source": [
    "# list comprehension\n",
    "square=[value**3 for value in range(1,11,1)]\n",
    "print(square[:3])"
   ]
  },
  {
   "cell_type": "code",
   "execution_count": 115,
   "metadata": {},
   "outputs": [
    {
     "name": "stdout",
     "output_type": "stream",
     "text": [
      "['sachin', 'dhoni']\n",
      "['sachin', 'dhoni', 'hardik']\n",
      "['virat', 'sachin', 'dhoni', 'hardik']\n",
      "['virat', 'sachin', 'dhoni', 'hardik', 'rohit']\n",
      "['dhoni', 'hardik', 'rohit']\n"
     ]
    }
   ],
   "source": [
    "# slicing a list\n",
    "players=['virat','sachin','dhoni','hardik','rohit']\n",
    "print(players[1:3])\n",
    "\n",
    "print(players[1:4])\n",
    "\n",
    "print(players[:4])\n",
    "\n",
    "print(players[0:])\n",
    "\n",
    "print(players[-3:])"
   ]
  },
  {
   "cell_type": "code",
   "execution_count": 104,
   "metadata": {},
   "outputs": [
    {
     "name": "stdout",
     "output_type": "stream",
     "text": [
      "Here are the first three players of my team\n",
      "Virat\n",
      "Sachin\n",
      "Dhoni\n"
     ]
    }
   ],
   "source": [
    "# looping throught a slicing\n",
    "players=['virat','sachin','dhoni','hardik','rohit']\n",
    "print(\"Here are the first three players of my team\")\n",
    "for player in players[:3]:\n",
    "    print(player.title())\n",
    "    \n",
    "   "
   ]
  },
  {
   "cell_type": "code",
   "execution_count": 109,
   "metadata": {},
   "outputs": [
    {
     "name": "stdout",
     "output_type": "stream",
     "text": [
      "this is my  best friends\n",
      "Bimlesh\n",
      "Neeraj\n",
      "Shishupal\n",
      "Sammir\n",
      "Ritesh\n"
     ]
    }
   ],
   "source": [
    " #looping throught a slicing\n",
    "friends=['bimlesh','neeraj','shishupal','sammir','ritesh']\n",
    "print(\"this is my  best friends\")\n",
    "for friend in friends[0:]:\n",
    "        print(friend.title())"
   ]
  },
  {
   "cell_type": "code",
   "execution_count": 113,
   "metadata": {},
   "outputs": [
    {
     "name": "stdout",
     "output_type": "stream",
     "text": [
      "my fevorite foods\n",
      "['pizza', 'falafel', 'carrot cake']\n",
      "\n",
      "\n",
      "my friend's fevrote  foods\n",
      "['pizza', 'falafel', 'carrot cake']\n"
     ]
    }
   ],
   "source": [
    "# how can copy the list\n",
    "my_foods=['pizza','falafel','carrot cake']\n",
    "friends_foods=my_foods\n",
    "\n",
    "print(\"my fevorite foods\")\n",
    "print(my_foods)\n",
    "print(\"\\n\")\n",
    "print(\"my friend's fevrote  foods\")\n",
    "print(friends_foods)"
   ]
  },
  {
   "cell_type": "code",
   "execution_count": 118,
   "metadata": {},
   "outputs": [
    {
     "name": "stdout",
     "output_type": "stream",
     "text": [
      "dimensions 1: 200\n",
      "dimensions 2: 50\n"
     ]
    }
   ],
   "source": [
    "#dufining tuple\n",
    "dimensions = (200, 50)\n",
    "print(\"dimensions 1:\",dimensions[0])\n",
    "print(\"dimensions 2:\",dimensions[1])"
   ]
  },
  {
   "cell_type": "code",
   "execution_count": 124,
   "metadata": {},
   "outputs": [
    {
     "name": "stdout",
     "output_type": "stream",
     "text": [
      "voewl 1; a\n",
      "voewl 2; e\n",
      "voewl 3; i\n",
      "voewl 4; o\n",
      "voewl 5; u\n"
     ]
    }
   ],
   "source": [
    "list=('a','e','i','o','u')\n",
    "print(\"voewl 1;\",list[0])\n",
    "print(\"voewl 2;\",list[1])\n",
    "print(\"voewl 3;\",list[2])\n",
    "print(\"voewl 4;\",list[3])\n",
    "print(\"voewl 5;\",list[4])"
   ]
  },
  {
   "cell_type": "code",
   "execution_count": 1,
   "metadata": {},
   "outputs": [
    {
     "name": "stdout",
     "output_type": "stream",
     "text": [
      "\n",
      "sum is 1.0\n",
      "\n",
      "sum is 1.5\n",
      "\n",
      "sum is 1.8333333333333333\n",
      "\n",
      "sum is 2.083333333333333\n",
      "\n",
      "sum is 2.283333333333333\n",
      "\n",
      "sum is 2.4499999999999997\n",
      "\n",
      "sum is 2.5928571428571425\n",
      "\n",
      "sum is 2.7178571428571425\n",
      "\n",
      "sum is 2.8289682539682537\n",
      "\n",
      "sum is 2.9289682539682538\n"
     ]
    }
   ],
   "source": [
    "# for loop using range function\n",
    "\n",
    "# print the reciprocals number\n",
    "\n",
    "rsum=0.0\n",
    "for i in range(1,11):\n",
    "    rsum=rsum +1.0/i\n",
    "    print('\\nsum is',rsum)"
   ]
  },
  {
   "cell_type": "code",
   "execution_count": 7,
   "metadata": {},
   "outputs": [
    {
     "name": "stdout",
     "output_type": "stream",
     "text": [
      "r= 2.1\n",
      "a= 3.2\n",
      "n= 4\n",
      "3.2\n",
      "6.720000000000001\n",
      "14.112000000000002\n",
      "29.635200000000005\n",
      "62.23392000000001\n",
      "130.69123200000004\n",
      "274.4515872000001\n",
      "576.3483331200002\n",
      "1210.3314995520007\n",
      "2541.6961490592016\n",
      "5337.561913024324\n"
     ]
    }
   ],
   "source": [
    "#example of geometric progression\n",
    "r=float(input('r= '))\n",
    "a=float(input('a= '))\n",
    "n=int(input('n= '))\n",
    "term=a\n",
    "print(term)\n",
    "for i in range(1,11):\n",
    "    term=term*r\n",
    "    print(term)\n"
   ]
  },
  {
   "cell_type": "code",
   "execution_count": 3,
   "metadata": {},
   "outputs": [
    {
     "name": "stdout",
     "output_type": "stream",
     "text": [
      "1\t2\t3\t4\t5\t6\t\n",
      "2\t4\t6\t8\t10\t12\t\n",
      "3\t6\t9\t12\t15\t18\t\n",
      "4\t8\t12\t16\t20\t24\t\n",
      "5\t10\t15\t20\t25\t30\t\n",
      "6\t12\t18\t24\t30\t36\t\n",
      "7\t14\t21\t28\t35\t42\t\n",
      "8\t16\t24\t32\t40\t48\t\n",
      "9\t18\t27\t36\t45\t54\t\n",
      "10\t20\t30\t40\t50\t60\t\n"
     ]
    }
   ],
   "source": [
    "# NESTED LOOP:-\n",
    "for i in range(1,11):\n",
    "    for j in range(1,7):\n",
    "        print(i*j, end='\\t')\n",
    "    print()"
   ]
  },
  {
   "cell_type": "code",
   "execution_count": 21,
   "metadata": {},
   "outputs": [
    {
     "name": "stdout",
     "output_type": "stream",
     "text": [
      "1\t\n",
      "2\t3\t\n",
      "3\t4\t5\t\n",
      "4\t5\t6\t7\t\n",
      "5\t6\t7\t8\t9\t\n"
     ]
    }
   ],
   "source": [
    "# one more example:\n",
    "for i in range(1,6):\n",
    "    for j in range(i,2*i):\n",
    "        print(j, end='\\t')\n",
    "    print()\n",
    "    "
   ]
  },
  {
   "cell_type": "code",
   "execution_count": 41,
   "metadata": {},
   "outputs": [
    {
     "name": "stdout",
     "output_type": "stream",
     "text": [
      "*\n",
      "1\t\n",
      "*\n",
      "*\n",
      "3\t\n",
      "*\n",
      "*\n",
      "*\n",
      "5\t\n",
      "*\n",
      "*\n",
      "*\n",
      "*\n",
      "7\t\n",
      "*\n",
      "*\n",
      "*\n",
      "*\n",
      "*\n",
      "9\t\n"
     ]
    }
   ],
   "source": [
    "# star pattern\n",
    "for i in range(1,6):\n",
    "    for j in range(i,2*i):\n",
    "        print('*')\n",
    "    print(j, end='\\t')\n",
    "    print() "
   ]
  },
  {
   "cell_type": "code",
   "execution_count": 47,
   "metadata": {},
   "outputs": [
    {
     "name": "stdout",
     "output_type": "stream",
     "text": [
      "intro to python\n",
      "amey\n",
      "101\n",
      "<class 'tuple'>\n"
     ]
    }
   ],
   "source": [
    "#TUPLE:\n",
    "t=('intro to python',101,'amey')\n",
    "print(t[0])\n",
    "print(t[2])\n",
    "print(t[1])\n",
    "print(type(t))"
   ]
  },
  {
   "cell_type": "code",
   "execution_count": 50,
   "metadata": {},
   "outputs": [
    {
     "name": "stdout",
     "output_type": "stream",
     "text": [
      "('parashana', 34, ('python', 'java', 'R', 'C'))\n",
      "('parashana', 34, ('python', 'java', 'R', 'C'))\n"
     ]
    }
   ],
   "source": [
    "#Nested Tuples:\n",
    "course=('python','java','R','C')\n",
    "student=('parashana',34,course)\n",
    "print(student)\n",
    "course=('statas','adam')\n",
    "print(student)"
   ]
  },
  {
   "cell_type": "code",
   "execution_count": 61,
   "metadata": {},
   "outputs": [
    {
     "name": "stdout",
     "output_type": "stream",
     "text": [
      "4\n",
      "0\n",
      "3\n",
      "1\n"
     ]
    }
   ],
   "source": [
    "#length of tuples\n",
    "course=('python','java','R','C')\n",
    "student=('parashana',34,course)\n",
    "empty=()\n",
    "single=('j')\n",
    "print(len(course))\n",
    "print(len(empty))\n",
    "print(len(student))\n",
    "print(len(single))"
   ]
  },
  {
   "cell_type": "code",
   "execution_count": 66,
   "metadata": {},
   "outputs": [
    {
     "name": "stdout",
     "output_type": "stream",
     "text": [
      "('python', 'java', 'R', 'C', 'parashana', 34, ('python', 'java', 'R', 'C'))\n"
     ]
    }
   ],
   "source": [
    "course=('python','java','R','C')\n",
    "course2=('parashana',34,course)\n",
    "print(course+course2)\n"
   ]
  },
  {
   "cell_type": "code",
   "execution_count": 8,
   "metadata": {},
   "outputs": [
    {
     "name": "stdout",
     "output_type": "stream",
     "text": [
      "('python', 'amey', '101', 'status', 'adam', '102')\n",
      "\n",
      "\n",
      "status\n",
      "\n",
      "\n",
      "('101', 'status', 'adam', '102')\n",
      "\n",
      "\n",
      "('python', 'amey', '101', 'python', 'amey', '101')\n"
     ]
    }
   ],
   "source": [
    "#more operatiom on tuple:\n",
    "course1=('python','amey','101')\n",
    "course2=('status','adam','102')\n",
    "print(course1+course2)\n",
    "print('\\n')\n",
    "\n",
    "print((course1+course2)[3])\n",
    "print('\\n')\n",
    "\n",
    "print((course1+course2)[2:7])\n",
    "print('\\n')\n",
    "\n",
    "print(2*course1)\n"
   ]
  },
  {
   "cell_type": "code",
   "execution_count": 14,
   "metadata": {},
   "outputs": [
    {
     "name": "stdout",
     "output_type": "stream",
     "text": [
      "prasanna\n",
      "34\n",
      "('python', 'amey', 101)\n",
      "\n",
      "\n",
      "a m y y\n"
     ]
    }
   ],
   "source": [
    "# unpacking sequence:\n",
    "student=('prasanna',34,('python','amey',101))\n",
    "name,roll,regodcourse=student\n",
    "print(name)\n",
    "print(roll)\n",
    "print(regodcourse)\n",
    "print('\\n')\n",
    "x1,x2,x3,x4=\"amey\"\n",
    "print(x1,x2,x4,x4)"
   ]
  },
  {
   "cell_type": "code",
   "execution_count": 18,
   "metadata": {},
   "outputs": [
    {
     "name": "stdout",
     "output_type": "stream",
     "text": [
      "[1, 2, 4, 5, 6, 7, 8]\n",
      "<class 'list'>\n"
     ]
    }
   ],
   "source": [
    "#list ,b/t square bracket is same type:\n",
    "fst=[1,2,4,5,6,7,8,]\n",
    "print(fst)\n",
    "print(type(fst))"
   ]
  },
  {
   "cell_type": "code",
   "execution_count": 28,
   "metadata": {},
   "outputs": [
    {
     "name": "stdout",
     "output_type": "stream",
     "text": [
      "[1, 1, 2, 3, 4, 5, 6, 7, 8, 13, 21, 34, 55]\n",
      "3\n",
      "[3, 4, 5, 6, 7, 8, 13, 21, 34, 55]\n",
      "[0, 1, 1, 2, 3, 4, 5, 6, 7, 8, 13, 21, 34, 55]\n",
      "[1, 1, 2, 1, 1, 2, 1, 1, 2]\n",
      "1 2 3\n"
     ]
    }
   ],
   "source": [
    "# sequence operations:\n",
    "fib=[1,1,2,3,4,5,6,7,8,13,21,34,55]\n",
    "print(fib)\n",
    "print(fib[3])\n",
    "print(fib[3:])\n",
    "print([0]+fib)\n",
    "print(3*[1,1,2])\n",
    "\n",
    "x,y,z=[1,2,3]\n",
    "print(x,y,z)"
   ]
  },
  {
   "cell_type": "code",
   "execution_count": null,
   "metadata": {},
   "outputs": [],
   "source": []
  }
 ],
 "metadata": {
  "kernelspec": {
   "display_name": "Python 3",
   "language": "python",
   "name": "python3"
  },
  "language_info": {
   "codemirror_mode": {
    "name": "ipython",
    "version": 3
   },
   "file_extension": ".py",
   "mimetype": "text/x-python",
   "name": "python",
   "nbconvert_exporter": "python",
   "pygments_lexer": "ipython3",
   "version": "3.7.3"
  }
 },
 "nbformat": 4,
 "nbformat_minor": 2
}

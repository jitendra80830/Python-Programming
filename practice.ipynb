{
 "cells": [
  {
   "cell_type": "code",
   "execution_count": 1,
   "metadata": {},
   "outputs": [
    {
     "name": "stdout",
     "output_type": "stream",
     "text": [
      "('shirt', 'jins', 'T shirt', 'paint')\n",
      "('eng', 'hindi', 'math', 'sans', 'physics')\n"
     ]
    }
   ],
   "source": [
    "#Function modify\n",
    "def cloths(*cloth):\n",
    "    print(cloth)\n",
    "cloths('shirt','jins','T shirt','paint')\n",
    "\n",
    "def subjects(*books):\n",
    "    print(books)\n",
    "subjects('eng','hindi','math','sans','physics')\n",
    "\n",
    "    "
   ]
  },
  {
   "cell_type": "code",
   "execution_count": 2,
   "metadata": {},
   "outputs": [
    {
     "name": "stdout",
     "output_type": "stream",
     "text": [
      "This is my favorite frnds.\n",
      "Rahul\n",
      "Sammir\n",
      "Bimlesh\n",
      "Raushan\n",
      "Ganesh\n",
      "Rohab\n"
     ]
    }
   ],
   "source": [
    "#\n",
    "def friends(*friends_name):\n",
    "    print(\"This is my favorite frnds.\")\n",
    "    for frnds in friends_name:\n",
    "        print(frnds.title())\n",
    "\n",
    "friends('rahul','sammir','bimlesh','raushan','ganesh','rohab')\n",
    "        "
   ]
  },
  {
   "cell_type": "code",
   "execution_count": 3,
   "metadata": {},
   "outputs": [
    {
     "name": "stdout",
     "output_type": "stream",
     "text": [
      "\n",
      "Makin pizza with the following topings\n",
      "-veggie\n",
      "\n",
      "Makin pizza with the following topings\n",
      "-onian\n",
      "-tomato\n",
      "-cheese\n"
     ]
    }
   ],
   "source": [
    "def making_pizza(*toppings):\n",
    "    print(\"\\nMakin pizza with the following topings\")\n",
    "    for topping in toppings:\n",
    "        print(f\"-{topping}\")\n",
    "        \n",
    "making_pizza('veggie')\n",
    "making_pizza('onian','tomato','cheese')\n"
   ]
  },
  {
   "cell_type": "code",
   "execution_count": 4,
   "metadata": {},
   "outputs": [
    {
     "name": "stdout",
     "output_type": "stream",
     "text": [
      "Making a 17-Inch pizza with the following pizza\n",
      "-veggie\n",
      "Making a 12-Inch pizza with the following pizza\n",
      "-tomato\n",
      "-onion\n",
      "-cheese\n"
     ]
    }
   ],
   "source": [
    "def makings_pizza(size,*toppings):\n",
    "    print(f\"Making a {size}-Inch pizza with the following pizza\")\n",
    "    for topping in toppings:\n",
    "        print(f\"-{topping}\")\n",
    "        \n",
    "makings_pizza(17,'veggie')\n",
    "makings_pizza(12,'tomato','onion','cheese')"
   ]
  },
  {
   "cell_type": "code",
   "execution_count": 5,
   "metadata": {},
   "outputs": [
    {
     "name": "stdout",
     "output_type": "stream",
     "text": [
      "your age12\n",
      "you can't give the vote\n"
     ]
    }
   ],
   "source": [
    "# if statements\n",
    "age=int(input(\"your age\"))\n",
    "if age>=18:\n",
    "    print(\"you can give vote\")\n",
    "elif age<18:\n",
    "    print(\"you can't give the vote\")"
   ]
  },
  {
   "cell_type": "code",
   "execution_count": 6,
   "metadata": {},
   "outputs": [
    {
     "name": "stdout",
     "output_type": "stream",
     "text": [
      "['ram', 'shayam', 'rohan', 'sohan', 'mohan']\n",
      "['rahul', 'shayam', 'rohan', 'sohan', 'mohan']\n",
      "['rahul', 'shayam', 'rohan', 'sohan', 'mohan', 'raaja']\n",
      "['lakhan', 'rahul', 'shayam', 'rohan', 'sohan', 'mohan', 'raaja']\n",
      "raaja\n",
      "This frnd Raaja has been chited me \n",
      "\n",
      "Lakhan is the best frnd in the wold\n"
     ]
    }
   ],
   "source": [
    "#list\n",
    "friends=['ram','shayam','rohan','sohan','mohan']\n",
    "print(friends)\n",
    "friends[0]='rahul'\n",
    "print(friends)\n",
    "friends.append('raaja')\n",
    "print(friends)\n",
    "\n",
    "friends.insert(0,'lakhan')\n",
    "print(friends)\n",
    "popped=friends.pop()\n",
    "print(popped)\n",
    "print(f\"This frnd {popped.title()} has been chited me \")\n",
    "\n",
    "popped1=friends.pop(0)\n",
    "print(f\"\\n{popped1.title()} is the best frnd in the wold\")\n"
   ]
  },
  {
   "cell_type": "code",
   "execution_count": 1,
   "metadata": {},
   "outputs": [
    {
     "ename": "NameError",
     "evalue": "name 'friends' is not defined",
     "output_type": "error",
     "traceback": [
      "\u001b[1;31m---------------------------------------------------------------------------\u001b[0m",
      "\u001b[1;31mNameError\u001b[0m                                 Traceback (most recent call last)",
      "\u001b[1;32m<ipython-input-1-080577ab92e7>\u001b[0m in \u001b[0;36m<module>\u001b[1;34m\u001b[0m\n\u001b[1;32m----> 1\u001b[1;33m \u001b[0mprint\u001b[0m\u001b[1;33m(\u001b[0m\u001b[0mfriends\u001b[0m\u001b[1;33m[\u001b[0m\u001b[1;36m0\u001b[0m\u001b[1;33m]\u001b[0m\u001b[1;33m)\u001b[0m\u001b[1;33m\u001b[0m\u001b[1;33m\u001b[0m\u001b[0m\n\u001b[0m\u001b[0;32m      2\u001b[0m \u001b[0mprint\u001b[0m\u001b[1;33m(\u001b[0m\u001b[0mfriends\u001b[0m\u001b[1;33m[\u001b[0m\u001b[1;36m0\u001b[0m\u001b[1;33m:\u001b[0m\u001b[1;33m]\u001b[0m\u001b[1;33m)\u001b[0m\u001b[1;33m\u001b[0m\u001b[1;33m\u001b[0m\u001b[0m\n\u001b[0;32m      3\u001b[0m \u001b[0mprint\u001b[0m\u001b[1;33m(\u001b[0m\u001b[0mfriends\u001b[0m\u001b[1;33m[\u001b[0m\u001b[1;33m:\u001b[0m\u001b[1;33m-\u001b[0m\u001b[1;36m1\u001b[0m\u001b[1;33m]\u001b[0m\u001b[1;33m)\u001b[0m\u001b[1;33m\u001b[0m\u001b[1;33m\u001b[0m\u001b[0m\n\u001b[0;32m      4\u001b[0m \u001b[0mprint\u001b[0m\u001b[1;33m(\u001b[0m\u001b[1;34mf\"My best frnd is {friends[0].title()}\"\u001b[0m\u001b[1;33m)\u001b[0m\u001b[1;33m\u001b[0m\u001b[1;33m\u001b[0m\u001b[0m\n\u001b[0;32m      5\u001b[0m \u001b[0mprint\u001b[0m\u001b[1;33m(\u001b[0m\u001b[1;34m\"My favorite frnds:\"\u001b[0m\u001b[1;33m)\u001b[0m\u001b[1;33m\u001b[0m\u001b[1;33m\u001b[0m\u001b[0m\n",
      "\u001b[1;31mNameError\u001b[0m: name 'friends' is not defined"
     ]
    }
   ],
   "source": [
    "print(friends[0])\n",
    "print(friends[0:])\n",
    "print(friends[:-1])\n",
    "print(f\"My best frnd is {friends[0].title()}\")\n",
    "print(\"My favorite frnds:\")\n",
    "for frnd in friends:\n",
    "    print(frnd)\n",
    "    \n",
    "friends.sort()# for permanentlt sort\n",
    "print(friends)\n",
    "\n",
    "friends.sort(reverse=True)# For reverse items\n",
    "print(friends)"
   ]
  },
  {
   "cell_type": "code",
   "execution_count": 9,
   "metadata": {},
   "outputs": [
    {
     "name": "stdout",
     "output_type": "stream",
     "text": [
      "Here is the origilan list\n",
      "['pen', 'books', 'copy', 'raser', 'pencile', 'shipner', 'colors', 'stument']\n",
      "\n",
      "Here is the sorted list\n",
      "['books', 'colors', 'copy', 'pen', 'pencile', 'raser', 'shipner', 'stument']\n",
      "\n",
      "Here is the original list Again\n",
      "['pen', 'books', 'copy', 'raser', 'pencile', 'shipner', 'colors', 'stument']\n",
      "\n",
      "Here is the reverse list\n",
      "['stument', 'colors', 'shipner', 'pencile', 'raser', 'copy', 'books', 'pen']\n",
      "\n",
      "Here is the again reverse for original list\n",
      "['pen', 'books', 'copy', 'raser', 'pencile', 'shipner', 'colors', 'stument']\n",
      "\n",
      "Here is the length of list\n",
      "8\n"
     ]
    }
   ],
   "source": [
    "stationari_list=['pen','books','copy','raser','pencile','shipner','colors','stument']\n",
    "print(\"Here is the origilan list\")\n",
    "print(stationari_list)\n",
    "print(\"\\nHere is the sorted list\")\n",
    "print(sorted(stationari_list)) #for temprory sorted list\n",
    "print(\"\\nHere is the original list Again\")\n",
    "print(stationari_list)\n",
    "\n",
    "stationari_list.reverse()\n",
    "print(\"\\nHere is the reverse list\")\n",
    "print(stationari_list)#For permenently reverse list\n",
    "\n",
    "print(\"\\nHere is the again reverse for original list\")\n",
    "stationari_list.reverse()\n",
    "print(stationari_list)\n",
    "\n",
    "print(\"\\nHere is the length of list\")\n",
    "print(len(stationari_list))"
   ]
  },
  {
   "cell_type": "code",
   "execution_count": 10,
   "metadata": {},
   "outputs": [
    {
     "name": "stdout",
     "output_type": "stream",
     "text": [
      "INDIAN Players Name:\n",
      "Dhoni\n",
      "Virat\n",
      "Rohit Sharma\n",
      "Yadav\n",
      "Sachin\n",
      "Pandya\n"
     ]
    }
   ],
   "source": [
    "#working list with loops\n",
    "players=['dhoni','virat','rohit sharma','yadav','sachin','pandya']\n",
    "print(\"INDIAN Players Name:\")\n",
    "for player in players:\n",
    "    print(player.title())"
   ]
  },
  {
   "cell_type": "code",
   "execution_count": 11,
   "metadata": {},
   "outputs": [
    {
     "name": "stdout",
     "output_type": "stream",
     "text": [
      "1\n",
      "2\n",
      "3\n",
      "4\n",
      "5\n",
      "6\n",
      "7\n",
      "8\n",
      "9\n",
      "10\n"
     ]
    }
   ],
   "source": [
    "#Using range function\n",
    "for i in range(1,11):\n",
    "    print(i)"
   ]
  },
  {
   "cell_type": "code",
   "execution_count": 12,
   "metadata": {},
   "outputs": [
    {
     "name": "stdout",
     "output_type": "stream",
     "text": [
      "[1, 2, 3, 4, 5, 6, 7, 8, 9, 10]\n",
      "1\n",
      "2\n",
      "3\n",
      "4\n",
      "5\n",
      "6\n",
      "7\n",
      "8\n",
      "9\n",
      "10\n"
     ]
    }
   ],
   "source": [
    "#make a list of no\n",
    "numbers=list(range(1,11))\n",
    "print(numbers)\n",
    "for num in numbers:\n",
    "    print(num)"
   ]
  },
  {
   "cell_type": "code",
   "execution_count": 13,
   "metadata": {},
   "outputs": [
    {
     "name": "stdout",
     "output_type": "stream",
     "text": [
      "[1, 4, 9, 16, 25, 36, 49, 64, 81, 100]\n"
     ]
    }
   ],
   "source": [
    "square=[]\n",
    "for value in range(1,11):\n",
    "    square.append(value**2)\n",
    "print(square)"
   ]
  },
  {
   "cell_type": "code",
   "execution_count": null,
   "metadata": {},
   "outputs": [],
   "source": [
    "#find min,max,sub\n",
    "digits=[2,3,4,5,7,8,11,12]\n",
    "print(max(digits))\n",
    "print(min(digits))\n",
    "print(sum(digits))"
   ]
  },
  {
   "cell_type": "code",
   "execution_count": 14,
   "metadata": {},
   "outputs": [
    {
     "name": "stdout",
     "output_type": "stream",
     "text": [
      "[1, 4, 9, 16, 25, 36, 49, 64, 81, 100]\n"
     ]
    }
   ],
   "source": [
    "#List Comprehension\n",
    "square=[value**2 for value in range(1,11)]\n",
    "print(square)"
   ]
  },
  {
   "cell_type": "code",
   "execution_count": 15,
   "metadata": {},
   "outputs": [
    {
     "name": "stdout",
     "output_type": "stream",
     "text": [
      "['sachin', 'dhoni', 'shrama', 'pandya', 'yadav']\n",
      "Here is the 1st three players\n",
      "Sachin\n",
      "Dhoni\n",
      "Shrama\n"
     ]
    }
   ],
   "source": [
    "#slicing with list\n",
    "players=['sachin','dhoni','shrama','pandya','yadav']\n",
    "print(players)\n",
    "print(\"Here is the 1st three players\")\n",
    "for player in players[:3]:\n",
    "    print(player.title())"
   ]
  },
  {
   "cell_type": "code",
   "execution_count": 16,
   "metadata": {},
   "outputs": [
    {
     "name": "stdout",
     "output_type": "stream",
     "text": [
      "Here is the my food list\n",
      "['egg', 'fish', 'chapati', 'rice', 'vegetables']\n",
      "\n",
      "Here is the my friends's food list\n",
      "['egg', 'fish', 'chapati', 'rice', 'vegetables']\n"
     ]
    }
   ],
   "source": [
    "#how can copy the list\n",
    "my_foods=['egg','fish','chapati','rice','vegetables']\n",
    "friend_foods=my_foods\n",
    "print(\"Here is the my food list\")\n",
    "print(my_foods)\n",
    "print(\"\\nHere is the my friends's food list\")\n",
    "print(friend_foods)"
   ]
  },
  {
   "cell_type": "code",
   "execution_count": 17,
   "metadata": {},
   "outputs": [
    {
     "name": "stdout",
     "output_type": "stream",
     "text": [
      "Here is the my foods list\n",
      "Egg\n",
      "Fish\n",
      "Chapati\n",
      "Rice\n",
      "Vegetables\n",
      "\n",
      "Here is the frnd food list\n",
      "Egg\n",
      "Fish\n",
      "Chapati\n",
      "Rice\n",
      "Vegetables\n"
     ]
    }
   ],
   "source": [
    "#with loops\n",
    "my_foods=['egg','fish','chapati','rice','vegetables']\n",
    "print(\"Here is the my foods list\")\n",
    "for myfood in my_foods:\n",
    "    print(myfood.title())\n",
    "frnd_foods=my_foods\n",
    "print(\"\\nHere is the frnd food list\")\n",
    "for ffoods in frnd_foods:\n",
    "    print(ffoods.title())"
   ]
  },
  {
   "cell_type": "code",
   "execution_count": 21,
   "metadata": {},
   "outputs": [
    {
     "name": "stdout",
     "output_type": "stream",
     "text": [
      "r= 2\n",
      "a= 3\n",
      "n= 2\n",
      "3.0\n",
      "6.0\n"
     ]
    }
   ],
   "source": [
    "#Foor loop for geometric progress\n",
    "r=float(input('r= '))\n",
    "a=float(input('a= '))\n",
    "n=int(input('n= '))\n",
    "\n",
    "term=a\n",
    "print(term)\n",
    "\n",
    "for i in range(1,n):\n",
    "    term=term*r #(i+1)th term\n",
    "    print(term)#display (i+1)the term"
   ]
  },
  {
   "cell_type": "code",
   "execution_count": 43,
   "metadata": {},
   "outputs": [
    {
     "name": "stdout",
     "output_type": "stream",
     "text": [
      "1\t2\t3\t4\t5\t6\t7\t8\t\n",
      "\n",
      "2\t4\t6\t8\t10\t12\t14\t16\t\n",
      "\n",
      "3\t6\t9\t12\t15\t18\t21\t24\t\n",
      "\n",
      "4\t8\t12\t16\t20\t24\t28\t32\t\n",
      "\n",
      "5\t10\t15\t20\t25\t30\t35\t40\t\n",
      "\n",
      "6\t12\t18\t24\t30\t36\t42\t48\t\n",
      "\n",
      "7\t14\t21\t28\t35\t42\t49\t56\t\n",
      "\n",
      "8\t16\t24\t32\t40\t48\t56\t64\t\n",
      "\n",
      "9\t18\t27\t36\t45\t54\t63\t72\t\n",
      "\n",
      "10\t20\t30\t40\t50\t60\t70\t80\t\n",
      "\n"
     ]
    }
   ],
   "source": [
    "#Nested loop\n",
    "for i in range(1,11):#inner loop\n",
    "    for j in range(1,9):\n",
    "        print(i*j,end='\\t')\n",
    "    print(\"\\n\")"
   ]
  },
  {
   "cell_type": "code",
   "execution_count": 52,
   "metadata": {},
   "outputs": [
    {
     "name": "stdout",
     "output_type": "stream",
     "text": [
      "bhagalpur\n",
      "bodhgaya\n",
      "gaya\n",
      "824231\n",
      "bihar\n",
      "india\n",
      "<class 'tuple'>\n"
     ]
    }
   ],
   "source": [
    "#Tuple\n",
    "jitendra='bhagalpur','bodhgaya','gaya','824231','bihar','india'\n",
    "print(jitendra[0])\n",
    "print(jitendra[1])\n",
    "print(jitendra[2])\n",
    "print(jitendra[3])\n",
    "print(jitendra[4])\n",
    "print(jitendra[5])\n",
    "jitendra\n",
    "print(type(jitendra))"
   ]
  },
  {
   "cell_type": "code",
   "execution_count": 56,
   "metadata": {},
   "outputs": [
    {
     "name": "stdout",
     "output_type": "stream",
     "text": [
      "('python', 'c', 'c++', 'java', 'java scrip', 'kortin', 'Ai', 'Ml', ('jitendra', 'sammir', 'ritesh', 'roahn', 'mohan', 'rahul', 'ajay'))\n",
      "('jitendra', 'sammir', 'ritesh', 'roahn', 'mohan', 'rahul', 'ajay')\n",
      "7\n",
      "9\n"
     ]
    }
   ],
   "source": [
    "#Nested Tuple\n",
    "students='jitendra','sammir','ritesh','roahn','mohan','rahul','ajay'\n",
    "course='python','c','c++','java','java scrip','kortin','Ai','Ml',students\n",
    "print(course)\n",
    "print(students)#does not effect on students\n",
    "\n",
    "print(len(students))\n",
    "print(len(course))\n",
    "\n",
    "      "
   ]
  },
  {
   "cell_type": "code",
   "execution_count": 67,
   "metadata": {},
   "outputs": [
    {
     "name": "stdout",
     "output_type": "stream",
     "text": [
      "('jitendra', 'sammir', 'ritesh', 'roahn', 'mohan', 'rahul', 'ajay', 'python', 'c', 'c++', 'java', 'java scrip', 'kortin', 'Ai', 'Ml', ('jitendra', 'sammir', 'ritesh', 'roahn', 'mohan', 'rahul', 'ajay'))\n",
      "mohan\n",
      "('jitendra', 'sammir', 'ritesh', 'roahn')\n",
      "('jitendra', 'sammir', 'ritesh', 'roahn', 'mohan', 'rahul', 'ajay', 'python', 'c', 'c++', 'java', 'java scrip', 'kortin', 'Ai', 'Ml')\n"
     ]
    }
   ],
   "source": [
    "#More operation on tuple\n",
    "print(students+course)\n",
    "\n",
    "(students+course)[3]\n",
    "print((students+course)[4])\n",
    "print((students+course)[:4])\n",
    "print((students+course)[:-1])"
   ]
  },
  {
   "cell_type": "code",
   "execution_count": 11,
   "metadata": {},
   "outputs": [
    {
     "name": "stdout",
     "output_type": "stream",
     "text": [
      "[1, 3, 4, 5, 6, 7, 8, 9, 10, 11]\n",
      "5\n",
      "[5, 6, 7, 8, 9, 10, 11]\n",
      "[0, 1, 3, 4, 5, 6, 7, 8, 9, 10, 11]\n",
      "[1, 3, 4, 5, 6, 7, 8, 9, 10, 11, 1, 3, 4, 5, 6, 7, 8, 9, 10, 11, 1, 3, 4, 5, 6, 7, 8, 9, 10, 11]\n",
      "1 2 3\n"
     ]
    }
   ],
   "source": [
    "num=[1,3,4,5,6,7,8,9,10,11]\n",
    "print(num)\n",
    "\n",
    "print(num[3])#indexing\n",
    "\n",
    "print(num[3:])#slicing\n",
    "print([0]+num)#concatenation\n",
    "print(3*num)#repeating\n",
    "\n",
    "x,y,z=[1,2,3]#unpacking\n",
    "print(x,y,z)"
   ]
  },
  {
   "cell_type": "code",
   "execution_count": 11,
   "metadata": {},
   "outputs": [
    {
     "name": "stdout",
     "output_type": "stream",
     "text": [
      "(['badmintal', 'table-tennis', 'carrom'], ['football', 'cricket'])\n",
      "['badmintal', 'table-tennis', 'carrom']\n",
      "['football', 'cricket']\n",
      "(['badmintal', 'table-tennis', 'carrom'], ['hockey', 'cricket'])\n",
      "(['badmintal', 'table-tennis', 'carrom'], ['hockey', 'cricket'], ['solitair', 'heart', 'freecell'])\n"
     ]
    },
    {
     "data": {
      "text/plain": [
       "True"
      ]
     },
     "execution_count": 11,
     "metadata": {},
     "output_type": "execute_result"
    }
   ],
   "source": [
    "#mutable vs immutable\n",
    "indoor=['badmintal','table-tennis','carrom']\n",
    "outdoor=['football','cricket']\n",
    "games=indoor,outdoor\n",
    "print(games)\n",
    "\n",
    "cards=['solitair','heart','freecell']\n",
    "print(games[0])\n",
    "print(games[1])\n",
    "\n",
    "#games[0]=cards # you cant cange this tuple\n",
    "\n",
    "games1=['badmintal','table-tennis','carrom'],['football','cricket'],['solitair','heart','freecell']\n",
    "games1[:2]\n",
    "games1[:2]==games\n",
    "\n",
    "outdoor[0]='hockey'#string is mutable okk\n",
    "print(games)\n",
    "games1[:2]==games\n",
    "games1[1][0]='hockey'\n",
    "print(games1)\n",
    "games1[:2]==games"
   ]
  },
  {
   "cell_type": "code",
   "execution_count": 27,
   "metadata": {},
   "outputs": [
    {
     "name": "stdout",
     "output_type": "stream",
     "text": [
      "(['sammir', 'rahul', 'sohan'], ['sonu', 'monu', 'raushan'])\n",
      "(['sammir', 'rahul', 'sohan'], ['sonu', 'monu', 'raushan'], ['raja', 'amit'])\n",
      "(['ranjan', 'rahul', 'sohan'], ['sonu', 'monu', 'raushan'])\n",
      "(['ranjan', 'rahul', 'sohan'], ['sonu', 'monu', 'raushan'], ['raja', 'amit'])\n"
     ]
    },
    {
     "data": {
      "text/plain": [
       "True"
      ]
     },
     "execution_count": 27,
     "metadata": {},
     "output_type": "execute_result"
    }
   ],
   "source": [
    "friends1=['sammir','rahul','sohan']\n",
    "friends2=['sonu','monu','raushan']\n",
    "friends_name=friends1,friends2\n",
    "print(friends_name)\n",
    "\n",
    "my_friends=['sammir','rahul','sohan'],['sonu','monu','raushan'],['raja','amit']\n",
    "#friends_name[0]='papu' #you can't change the tuple\n",
    "print(my_friends)\n",
    "my_friends[:2]==friends_name\n",
    "friends1[0]='ranjan'\n",
    "print(friends_name)\n",
    "\n",
    "my_friends[:2]==friends_name\n",
    "my_friends[0][0]='ranjan'\n",
    "print(my_friends)\n",
    "\n",
    "my_friends[:2]==friends_name"
   ]
  },
  {
   "cell_type": "code",
   "execution_count": 17,
   "metadata": {},
   "outputs": [
    {
     "name": "stdout",
     "output_type": "stream",
     "text": [
      "[12, 5, 3, 100, 88, 36, 33]\n",
      "[-1, -27, -23]\n",
      "[144, 25, 9, 10000, 7744, 1296, 1089]\n",
      "[1, 4, 9, 16, 25, 36, 49, 64, 81, 100]\n",
      "[(1, 1), (2, 2), (3, 3), (4, 4), (5, 5), (6, 6), (7, 7), (8, 8), (9, 9), (10, 10)]\n",
      "[(4, 16), (7, 49), (6, 36), (10, 100)]\n",
      "<class 'list'>\n"
     ]
    }
   ],
   "source": [
    "#list cmprehention\n",
    "num=[12,5,3,-1,-27,100,88,36,33,-23]\n",
    "pos=[x for x in num if x>=0]\n",
    "print(pos)\n",
    "pos1=[x for x in num if x<=0]\n",
    "print(pos1)\n",
    "\n",
    "sqare=[x*x for x in num if x>0]\n",
    "print(sqare)\n",
    "\n",
    "num1=[x*x for x in range(1,21) if x<11]\n",
    "print(num1)\n",
    "\n",
    "abspair=[(x,abs(x)) for x in range(1,11)]\n",
    "print(abspair)\n",
    "\n",
    "sqare_equal=[(x,y) for x in [2,4,7,8,3,6,10,11] for y in [49,36,16,100] if x*x==y]\n",
    "print(sqare_equal)\n",
    "print(type(sqare_equal))"
   ]
  },
  {
   "cell_type": "code",
   "execution_count": 18,
   "metadata": {},
   "outputs": [
    {
     "name": "stdout",
     "output_type": "stream",
     "text": [
      "{'designing', 'architecture', 'math', 'biology', 'ens', 'automata'}\n",
      "<class 'set'>\n"
     ]
    }
   ],
   "source": [
    "#sets\n",
    "subjects=['architecture','automata','designing','math','biology','ens']\n",
    "sub_name=set(subjects)\n",
    "print(sub_name)\n",
    "print(type(sub_name))"
   ]
  },
  {
   "cell_type": "code",
   "execution_count": 33,
   "metadata": {},
   "outputs": [
    {
     "name": "stdout",
     "output_type": "stream",
     "text": [
      "{'a', 't', 'd', 'i', 'r', 'j', 'n', 'e'}\n",
      "{'a', 'n', 'r', 'j'}\n"
     ]
    },
    {
     "data": {
      "text/plain": [
       "{'d', 'e', 'i', 't'}"
      ]
     },
     "execution_count": 33,
     "metadata": {},
     "output_type": "execute_result"
    }
   ],
   "source": [
    "frnd1=set('jitendra')\n",
    "frnd2=set('ranjan')\n",
    "print(frnd1)\n",
    "print(frnd2)\n",
    "frnd1-frnd2\n"
   ]
  },
  {
   "cell_type": "code",
   "execution_count": 34,
   "metadata": {},
   "outputs": [
    {
     "data": {
      "text/plain": [
       "{'d', 'e', 'i', 't'}"
      ]
     },
     "execution_count": 34,
     "metadata": {},
     "output_type": "execute_result"
    }
   ],
   "source": [
    "frnd1^frnd2"
   ]
  },
  {
   "cell_type": "code",
   "execution_count": 35,
   "metadata": {},
   "outputs": [
    {
     "data": {
      "text/plain": [
       "{'a', 'd', 'e', 'i', 'j', 'n', 'r', 't'}"
      ]
     },
     "execution_count": 35,
     "metadata": {},
     "output_type": "execute_result"
    }
   ],
   "source": [
    "frnd1|frnd2\n"
   ]
  },
  {
   "cell_type": "code",
   "execution_count": 36,
   "metadata": {},
   "outputs": [
    {
     "data": {
      "text/plain": [
       "{'a', 'j', 'n', 'r'}"
      ]
     },
     "execution_count": 36,
     "metadata": {},
     "output_type": "execute_result"
    }
   ],
   "source": [
    "frnd1&frnd2"
   ]
  },
  {
   "cell_type": "code",
   "execution_count": 2,
   "metadata": {},
   "outputs": [
    {
     "name": "stdout",
     "output_type": "stream",
     "text": [
      "Rahul\n",
      "SONU\n",
      "Raja\n",
      "Aman\n",
      "RAJU\n"
     ]
    }
   ],
   "source": [
    "#if staement with sets\n",
    "friends=['rahul','sonu','raja','aman','raju']\n",
    "\n",
    "for friend in friends:\n",
    "    if friend=='raju':\n",
    "        print(friend.upper())\n",
    "    elif friend=='sonu':\n",
    "        \n",
    "        print(friend.upper())\n",
    "    else:\n",
    "        print(friend.title())"
   ]
  },
  {
   "cell_type": "code",
   "execution_count": 1,
   "metadata": {},
   "outputs": [
    {
     "name": "stdout",
     "output_type": "stream",
     "text": [
      "Apna email batao: jitendrakumar\n",
      "pasword bhi dal: j1234\n",
      "Tera email galat hai\n",
      "\n",
      "Dowara email daljitendrakumar8997@gmail.com\n",
      "koi bat nhi aisa hota hai\n"
     ]
    }
   ],
   "source": [
    "#if-elif\n",
    "email=input(\"Apna email batao: \")\n",
    "pasword=input(\"pasword bhi dal: \")\n",
    "\n",
    "if email==\"jitendrakumar8997@gmail.com\" and pasword==\"j1234\":\n",
    "    print(\"Welcome\")\n",
    "elif email==\"jitendrakumar8997@gmail.com\" and pasword!=\"j1234\":\n",
    "    print(\"Tera pasword galat hai\")\n",
    "    pasword=input(\"\\nDowara pasword bol\")\n",
    "    if pasword==\"j1234\": \n",
    "        print(\"koi bat nhi aisa hota hai\")\n",
    "    else:\n",
    "        print(\"Dowara apana muh mat dekhana\") \n",
    "elif email!=\"jitendrakumar8997@gmail.com\" and pasword==\"j1234\":\n",
    "    print(\"Tera email galat hai\")\n",
    "    email=input(\"\\nDowara email dal\")\n",
    "    if email==\"jitendrakumar8997@gmail.com\":\n",
    "        print(\"koi bat nhi aisa hota hai\")\n",
    "    else:\n",
    "        print(\"dowara apana hum mat dikhana ok!\")\n",
    "else:\n",
    "    print(\"chal Nikal yaha se!\")\n"
   ]
  },
  {
   "cell_type": "code",
   "execution_count": 21,
   "metadata": {},
   "outputs": [
    {
     "name": "stdout",
     "output_type": "stream",
     "text": [
      "{'name': 'ram', 'roll': 6}\n",
      "ram\n",
      "6\n"
     ]
    }
   ],
   "source": [
    "#dectionary\n",
    "students_details={'name':'ram','roll':6}\n",
    "print(students_details)\n",
    "print(students_details['name'])\n",
    "print(students_details['roll'])\n",
    "\n"
   ]
  },
  {
   "cell_type": "code",
   "execution_count": 27,
   "metadata": {},
   "outputs": [
    {
     "name": "stdout",
     "output_type": "stream",
     "text": [
      "{'color': 'green', 'point': 5}\n",
      "<class 'dict'>\n",
      "\n",
      "you just ern 5 point\n",
      "\n",
      "The alien's color is green\n"
     ]
    }
   ],
   "source": [
    "alien_0={'color':'green','point':5}\n",
    "print(alien_0)\n",
    "print(type(alien_0))\n",
    "\n",
    "print(f\"\\nyou just ern {alien_0['point']} point\")\n",
    "print(f\"\\nThe alien's color is {alien_0['color']}\")"
   ]
  },
  {
   "cell_type": "code",
   "execution_count": 5,
   "metadata": {},
   "outputs": [
    {
     "name": "stdout",
     "output_type": "stream",
     "text": [
      "Original position 0\n",
      "\n",
      "New position 2\n"
     ]
    }
   ],
   "source": [
    "#Example\n",
    "alien_0={'x_position':0,'y_position':25,'speed':'mediam'}\n",
    "print(f\"Original position {alien_0['x_position']}\")\n",
    "if alien_0['speed']=='slow':\n",
    "      x_increment=1\n",
    "elif alien_0['speed']=='mediam':\n",
    "      x_increment=2\n",
    "else:\n",
    "      x_increment=3\n",
    "alien_0['x_position']=alien_0['x_position'] + x_increment\n",
    "print(f\"\\nNew position {alien_0['x_position']}\") \n",
    "\n"
   ]
  },
  {
   "cell_type": "code",
   "execution_count": 3,
   "metadata": {},
   "outputs": [
    {
     "name": "stdout",
     "output_type": "stream",
     "text": [
      "Jitendra thank you for taking the poll\n",
      "\n",
      "Rahu thank you for taking the poll\n",
      "\n",
      "Raja thank you for taking the poll\n",
      "\n",
      "Ram thank you for taking the poll\n",
      "\n"
     ]
    }
   ],
   "source": [
    "#\n",
    "favourite_languages={'rahu':'c','raja':'c#',\"ram\":'shyam','jitendra':'python'}\n",
    "for name in sorted(favourite_languages.keys()):\n",
    "    print(f\"{name.title()} thank you for taking the poll\\n\")"
   ]
  },
  {
   "cell_type": "code",
   "execution_count": 6,
   "metadata": {},
   "outputs": [
    {
     "name": "stdout",
     "output_type": "stream",
     "text": [
      "Ram is plying crickets\n",
      "\n",
      "Ritesh is plying crickets\n",
      "\n",
      "Sammir is plying crickets\n",
      "\n"
     ]
    }
   ],
   "source": [
    "friends_list={'ram':'cricket','sammir':'football','ritesh':'bolliball'}\n",
    "\n",
    "for friends in sorted(friends_list.keys()):\n",
    "    print(f\"{friends.title()} is plying crickets\\n\")"
   ]
  },
  {
   "cell_type": "code",
   "execution_count": 16,
   "metadata": {},
   "outputs": [
    {
     "name": "stdout",
     "output_type": "stream",
     "text": [
      "Rahul\n",
      "Ram\n"
     ]
    }
   ],
   "source": [
    "#for value\n",
    "friends={'rahul':'cricket','ram':'football'}\n",
    "for frnd in friends.keys():\n",
    "    print(frnd.title())"
   ]
  },
  {
   "cell_type": "code",
   "execution_count": 17,
   "metadata": {},
   "outputs": [
    {
     "name": "stdout",
     "output_type": "stream",
     "text": [
      "{'user': 'rahul', 'points': 10}\n",
      "{'user': 'papu', 'points': 9}\n",
      "{'user': 'sammir', 'points': 17}\n"
     ]
    }
   ],
   "source": [
    "#Nesting\n",
    "user1={'user':'rahul','points':10}\n",
    "user2={'user':'papu','points':9}\n",
    "user3={'user':'sammir',\"points\":17}\n",
    "users=[user1,user2,user3]\n",
    "for user in users:\n",
    "    print(user)"
   ]
  },
  {
   "cell_type": "code",
   "execution_count": 1,
   "metadata": {},
   "outputs": [
    {
     "name": "stdout",
     "output_type": "stream",
     "text": [
      "{'user': 'rahul', 'points': 10}\n",
      "{'user': 'rahul', 'points': 10}\n",
      "{'user': 'rahul', 'points': 10}\n",
      "{'user': 'rahul', 'points': 10}\n",
      "{'user': 'rahul', 'points': 10}\n"
     ]
    }
   ],
   "source": [
    "users=[]\n",
    "for user_no in range(20):\n",
    "\n",
    "    new_user={'user':'rahul','points':10}\n",
    "    users.append(new_user)\n",
    "for user in users[:5]:\n",
    "    print(user)"
   ]
  },
  {
   "cell_type": "code",
   "execution_count": 10,
   "metadata": {},
   "outputs": [
    {
     "name": "stdout",
     "output_type": "stream",
     "text": [
      "Rahul Kumar,your ordered fast food is following\n",
      "\t-pizza\n",
      "\t-biryani\n",
      "\t-egg\n",
      "\t-chomin\n",
      "\t-mashroom\n"
     ]
    }
   ],
   "source": [
    "#A list in dictionary\n",
    "food_deliver={'user':'rahul kumar','fast foods':['pizza','biryani','egg','chomin','mashroom']}\n",
    "print(f\"{food_deliver['user'].title()},your ordered fast food is following\")\n",
    "\n",
    "for foods in food_deliver['fast foods']:\n",
    "      print(\"\\t-\"+foods)"
   ]
  },
  {
   "cell_type": "code",
   "execution_count": 17,
   "metadata": {},
   "outputs": [
    {
     "ename": "AttributeError",
     "evalue": "'dict' object has no attribute 'item'",
     "output_type": "error",
     "traceback": [
      "\u001b[1;31m---------------------------------------------------------------------------\u001b[0m",
      "\u001b[1;31mAttributeError\u001b[0m                            Traceback (most recent call last)",
      "\u001b[1;32m<ipython-input-17-4785951b8ad6>\u001b[0m in \u001b[0;36m<module>\u001b[1;34m\u001b[0m\n\u001b[0;32m      3\u001b[0m                    \u001b[1;34m'vicky'\u001b[0m\u001b[1;33m:\u001b[0m\u001b[1;33m[\u001b[0m\u001b[1;34m'ruby'\u001b[0m\u001b[1;33m,\u001b[0m\u001b[1;34m'r'\u001b[0m\u001b[1;33m]\u001b[0m\u001b[1;33m,\u001b[0m\u001b[1;33m\u001b[0m\u001b[1;33m\u001b[0m\u001b[0m\n\u001b[0;32m      4\u001b[0m                    'jitendra':['python','java']}\n\u001b[1;32m----> 5\u001b[1;33m \u001b[1;32mfor\u001b[0m \u001b[0mname\u001b[0m\u001b[1;33m,\u001b[0m\u001b[0mlanguages\u001b[0m \u001b[1;32min\u001b[0m \u001b[0mfavourite_language\u001b[0m\u001b[1;33m.\u001b[0m\u001b[0mitem\u001b[0m\u001b[1;33m(\u001b[0m\u001b[1;33m)\u001b[0m\u001b[1;33m:\u001b[0m\u001b[1;33m\u001b[0m\u001b[1;33m\u001b[0m\u001b[0m\n\u001b[0m\u001b[0;32m      6\u001b[0m     \u001b[0mprint\u001b[0m\u001b[1;33m(\u001b[0m\u001b[1;34mf\"{name.title()},your favourite languages\\n\"\u001b[0m\u001b[1;33m)\u001b[0m\u001b[1;33m\u001b[0m\u001b[1;33m\u001b[0m\u001b[0m\n\u001b[0;32m      7\u001b[0m \u001b[1;33m\u001b[0m\u001b[0m\n",
      "\u001b[1;31mAttributeError\u001b[0m: 'dict' object has no attribute 'item'"
     ]
    }
   ],
   "source": [
    "favourite_language={'ram':['c'],\n",
    "                   'rahul':['c++','c#'],\n",
    "                   'vicky':['ruby','r'],\n",
    "                   'jitendra':['python','java']}\n",
    "for name,languages in favourite_language.item():\n",
    "    print(f\"{name.title()},your favourite languages\\n\")\n",
    "    \n",
    "    for language in languages:\n",
    "        print(\"\\t\",language)"
   ]
  },
  {
   "cell_type": "code",
   "execution_count": null,
   "metadata": {},
   "outputs": [],
   "source": []
  }
 ],
 "metadata": {
  "kernelspec": {
   "display_name": "Python 3",
   "language": "python",
   "name": "python3"
  },
  "language_info": {
   "codemirror_mode": {
    "name": "ipython",
    "version": 3
   },
   "file_extension": ".py",
   "mimetype": "text/x-python",
   "name": "python",
   "nbconvert_exporter": "python",
   "pygments_lexer": "ipython3",
   "version": "3.7.3"
  }
 },
 "nbformat": 4,
 "nbformat_minor": 2
}

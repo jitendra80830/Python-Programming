{
 "cells": [
  {
   "cell_type": "code",
   "execution_count": 3,
   "metadata": {},
   "outputs": [
    {
     "name": "stdout",
     "output_type": "stream",
     "text": [
      "maximum value 857\n",
      "minimum value 572\n"
     ]
    }
   ],
   "source": [
    "# lecture 17\n",
    "#Scope rule:-\n",
    "#Example\n",
    "def max(a,b):\n",
    "    if (a>b):\n",
    "        m=a\n",
    "    else:\n",
    "        m=b\n",
    "    return m\n",
    "def min(a,b):\n",
    "    if (a<b):\n",
    "        m=a\n",
    "    else:\n",
    "        m=b\n",
    "    return m\n",
    "m1=max(857,572)\n",
    "m2=min(857,572)\n",
    "print(f\"maximum value {m1}\")\n",
    "print(f\"minimum value {m2}\")"
   ]
  },
  {
   "cell_type": "code",
   "execution_count": 6,
   "metadata": {},
   "outputs": [
    {
     "name": "stdout",
     "output_type": "stream",
     "text": [
      "31400.0\n",
      "62.800000000000004\n",
      "62.8318\n",
      "78.53975\n"
     ]
    }
   ],
   "source": [
    "#Globals:-\n",
    "#Examples:-\n",
    "pi=3.14\n",
    "def perimeter(r):\n",
    "    return 2*pi*r\n",
    "def area(r):\n",
    "    return pi*r*r\n",
    "def update_pi():\n",
    "    global pi\n",
    "    pi=3.14159\n",
    "print(area(100))\n",
    "print(perimeter(10))\n",
    "update_pi()\n",
    "print(perimeter(10))\n",
    "print(area(5))"
   ]
  },
  {
   "cell_type": "code",
   "execution_count": 13,
   "metadata": {},
   "outputs": [
    {
     "name": "stdout",
     "output_type": "stream",
     "text": [
      "intro to python\n",
      "acad's first course\n"
     ]
    },
    {
     "data": {
      "text/plain": [
       "2"
      ]
     },
     "execution_count": 13,
     "metadata": {},
     "output_type": "execute_result"
    }
   ],
   "source": [
    "#String\n",
    "name='intro to python'\n",
    "descr='acad\\'s first course'\n",
    "print(name)\n",
    "print(descr)\n",
    "name\n",
    "\n",
    "#length\n",
    "\n",
    "len(descr)\n",
    "\n",
    "special='1\\2'\n",
    "len(special)"
   ]
  },
  {
   "cell_type": "code",
   "execution_count": 22,
   "metadata": {},
   "outputs": [
    {
     "name": "stdout",
     "output_type": "stream",
     "text": [
      "('name+ ', ' descr')\n"
     ]
    }
   ],
   "source": [
    "#concatenate and Repeat:-\n",
    "#Example-\n",
    "name='intro to python'\n",
    "descr='acad\\'s first course'\n",
    "detail=('name+ ',' descr')\n",
    "print(detail)"
   ]
  },
  {
   "cell_type": "code",
   "execution_count": 21,
   "metadata": {},
   "outputs": [
    {
     "name": "stdout",
     "output_type": "stream",
     "text": [
      "i wont fly paper airplanes inclass\n",
      "i wont fly paper airplanes inclassi wont fly paper airplanes inclassi wont fly paper airplanes inclassi wont fly paper airplanes inclassi wont fly paper airplanes inclass\n"
     ]
    }
   ],
   "source": [
    "punishment=('i wont fly paper airplanes inclass')\n",
    "print(punishment)\n",
    "print(punishment*5)"
   ]
  },
  {
   "cell_type": "code",
   "execution_count": 18,
   "metadata": {},
   "outputs": [
    {
     "name": "stdout",
     "output_type": "stream",
     "text": [
      "A\n",
      "c\n",
      "d\n",
      "s\n",
      "a\n",
      "d\n",
      "Acad\n",
      "ca\n"
     ]
    },
    {
     "ename": "IndexError",
     "evalue": "string index out of range",
     "output_type": "error",
     "traceback": [
      "\u001b[1;31m---------------------------------------------------------------------------\u001b[0m",
      "\u001b[1;31mIndexError\u001b[0m                                Traceback (most recent call last)",
      "\u001b[1;32m<ipython-input-18-ae08cfa43a3b>\u001b[0m in \u001b[0;36m<module>\u001b[1;34m\u001b[0m\n\u001b[0;32m     18\u001b[0m \u001b[1;33m\u001b[0m\u001b[0m\n\u001b[0;32m     19\u001b[0m \u001b[1;31m#Out og range error\u001b[0m\u001b[1;33m\u001b[0m\u001b[1;33m\u001b[0m\u001b[1;33m\u001b[0m\u001b[0m\n\u001b[1;32m---> 20\u001b[1;33m \u001b[0mprint\u001b[0m\u001b[1;33m(\u001b[0m\u001b[0mname\u001b[0m\u001b[1;33m[\u001b[0m\u001b[1;36m8\u001b[0m\u001b[1;33m]\u001b[0m\u001b[1;33m)\u001b[0m\u001b[1;33m\u001b[0m\u001b[1;33m\u001b[0m\u001b[0m\n\u001b[0m",
      "\u001b[1;31mIndexError\u001b[0m: string index out of range"
     ]
    }
   ],
   "source": [
    "#l-18\n",
    "#indexing and slicing\n",
    "#Indexing\n",
    "name='Acads'\n",
    "print(name[0])\n",
    "print(name[1])\n",
    "print(name[3])\n",
    "\n",
    "#Negative\n",
    "\n",
    "print(name[-1])\n",
    "print(name[-3])\n",
    "print(name[-2])\n",
    "\n",
    "#Negative and possitive\n",
    "print(name[0:-1])\n",
    "print(name[1:-2])\n",
    "\n",
    "#Out og range error\n",
    "print(name[8]) #out of range"
   ]
  },
  {
   "cell_type": "code",
   "execution_count": 26,
   "metadata": {},
   "outputs": [
    {
     "name": "stdout",
     "output_type": "stream",
     "text": [
      "Aca\n",
      "ad\n",
      "Aca\n",
      "ds\n",
      "Acads\n",
      "cad\n",
      "Acad\n"
     ]
    }
   ],
   "source": [
    "#Slicing\n",
    "#Examples\n",
    "name='Acads'\n",
    "print(name[0:3])\n",
    "print(name[2:4])\n",
    "print(name[:3])\n",
    "print(name[3:])\n",
    "print(name[0:])\n",
    "print(name[1:-1])\n",
    "print(name[:-1])"
   ]
  },
  {
   "cell_type": "code",
   "execution_count": 38,
   "metadata": {},
   "outputs": [
    {
     "data": {
      "text/plain": [
       "3025"
      ]
     },
     "execution_count": 38,
     "metadata": {},
     "output_type": "execute_result"
    }
   ],
   "source": [
    "#Higher order funtions\n",
    "#Example\n",
    "def summation(n,f):\n",
    "    sum=0\n",
    "    for i in range(1,n+1):\n",
    "        sum=sum+f(i)\n",
    "    return sum\n",
    "\n",
    "def identity(x):\n",
    "    return x\n",
    "def square(x):\n",
    "    return x*x\n",
    "def cube(x):\n",
    "    return x**3\n",
    "\n",
    "summation(10,identity)\n",
    "\n",
    "summation(10,square)\n",
    "\n",
    "summation(10,cube)"
   ]
  },
  {
   "cell_type": "code",
   "execution_count": 45,
   "metadata": {},
   "outputs": [
    {
     "data": {
      "text/plain": [
       "3025"
      ]
     },
     "execution_count": 45,
     "metadata": {},
     "output_type": "execute_result"
    }
   ],
   "source": [
    "def summation(n,f):\n",
    "    sum=0\n",
    "    for i in range(1,n+1):\n",
    "        sum=sum+f(i)\n",
    "    return sum\n",
    "\n",
    "\n",
    "summation(10,lambda x:x)\n",
    "summation(10,lambda x:x*x)\n",
    "summation(10,lambda x:x**3)"
   ]
  },
  {
   "cell_type": "code",
   "execution_count": null,
   "metadata": {},
   "outputs": [],
   "source": []
  }
 ],
 "metadata": {
  "kernelspec": {
   "display_name": "Python 3",
   "language": "python",
   "name": "python3"
  },
  "language_info": {
   "codemirror_mode": {
    "name": "ipython",
    "version": 3
   },
   "file_extension": ".py",
   "mimetype": "text/x-python",
   "name": "python",
   "nbconvert_exporter": "python",
   "pygments_lexer": "ipython3",
   "version": "3.7.3"
  }
 },
 "nbformat": 4,
 "nbformat_minor": 2
}

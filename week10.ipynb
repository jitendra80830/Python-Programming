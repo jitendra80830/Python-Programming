{
 "cells": [
  {
   "cell_type": "code",
   "execution_count": 6,
   "metadata": {},
   "outputs": [
    {
     "name": "stdout",
     "output_type": "stream",
     "text": [
      "[56, 3, 4, 5, 6, 11, 32]\n",
      "[56, 32, 11, 6, 5, 4, 3]\n"
     ]
    }
   ],
   "source": [
    "#L-30\n",
    "#sorting\n",
    "#selection sort\n",
    "list1=[56,3,4,5,6,11,32]\n",
    "print(list1)\n",
    "for i in range(len(list1)):\n",
    "    min_val=min(list1[i:])\n",
    "    min_ind=list1.index(min_val)\n",
    "    list1[i],list1[min_ind]=list1[min_ind],list1[i]\n",
    "print(list1)   "
   ]
  },
  {
   "cell_type": "code",
   "execution_count": 7,
   "metadata": {},
   "outputs": [
    {
     "name": "stdout",
     "output_type": "stream",
     "text": [
      "[56, 3, 4, 5, 6, 11, 32]\n",
      "[56, 32, 11, 6, 5, 4, 3]\n"
     ]
    }
   ],
   "source": [
    "list1=[56,3,4,5,6,11,32]\n",
    "print(list1)\n",
    "for i in range(len(list1)):\n",
    "    min_val=max(list1[i:])\n",
    "    min_ind=list1.index(min_val)\n",
    "    list1[i],list1[min_ind]=list1[min_ind],list1[i]\n",
    "print(list1)   "
   ]
  },
  {
   "cell_type": "code",
   "execution_count": null,
   "metadata": {},
   "outputs": [],
   "source": []
  }
 ],
 "metadata": {
  "kernelspec": {
   "display_name": "Python 3",
   "language": "python",
   "name": "python3"
  },
  "language_info": {
   "codemirror_mode": {
    "name": "ipython",
    "version": 3
   },
   "file_extension": ".py",
   "mimetype": "text/x-python",
   "name": "python",
   "nbconvert_exporter": "python",
   "pygments_lexer": "ipython3",
   "version": "3.7.3"
  }
 },
 "nbformat": 4,
 "nbformat_minor": 2
}

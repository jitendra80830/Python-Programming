{
 "cells": [
  {
   "cell_type": "code",
   "execution_count": 1,
   "metadata": {},
   "outputs": [
    {
     "name": "stdout",
     "output_type": "stream",
     "text": [
      "What is your name?jitendra\n",
      "We'll remeber you when yiu come back ,jitendra.\n"
     ]
    }
   ],
   "source": [
    "#using json\n",
    "import json\n",
    "username=input(\"What is your name?\")\n",
    "filename='username.json'\n",
    "with open(filename,'w') as f:\n",
    "    json.dump(username,f)\n",
    "\n",
    "    print(f\"We'll remeber you when yiu come back ,{username}.\")"
   ]
  },
  {
   "cell_type": "code",
   "execution_count": 12,
   "metadata": {},
   "outputs": [
    {
     "name": "stdout",
     "output_type": "stream",
     "text": [
      "Wel Come back jitendra\n"
     ]
    }
   ],
   "source": [
    "# Now load the username\n",
    "import json\n",
    "filename='username.json'\n",
    "try:\n",
    "    with open(filename) as f:\n",
    "        username=json.load(f)\n",
    "except FileNotFoundError:\n",
    "    username=input(\"What is your name\")\n",
    "    \n",
    "    with open(filename,'w') as f:\n",
    "        json.dump(username,f)\n",
    "        print(f\"We'll remember you when you come back,{username}\")\n",
    "else:\n",
    "    print(f\"Wel Come back {username}\")"
   ]
  },
  {
   "cell_type": "code",
   "execution_count": 23,
   "metadata": {},
   "outputs": [
    {
     "ename": "SyntaxError",
     "evalue": "invalid syntax (<ipython-input-23-47dc090985ad>, line 25)",
     "output_type": "error",
     "traceback": [
      "\u001b[1;36m  File \u001b[1;32m\"<ipython-input-23-47dc090985ad>\"\u001b[1;36m, line \u001b[1;32m25\u001b[0m\n\u001b[1;33m    else:\u001b[0m\n\u001b[1;37m       ^\u001b[0m\n\u001b[1;31mSyntaxError\u001b[0m\u001b[1;31m:\u001b[0m invalid syntax\n"
     ]
    }
   ],
   "source": [
    "import json\n",
    "\n",
    "def get_stored_username():\n",
    "    \"\"\"Get stored username if available\"\"\"\n",
    "    filename='username.json'\n",
    "    try:\n",
    "        with open(filename) as f:\n",
    "            username=json.load(f)\n",
    "    except FileNotFoundError:\n",
    "        return None\n",
    "    else:\n",
    "        return username\n",
    "def greet_user():\n",
    "    \"\"\"Greet the use by name\"\"\"\n",
    "    username=get_stored_username()\n",
    "    if username:\n",
    "        print(f\"Wel come back{username}\")\n",
    "    else:\n",
    "        username=input(\"What is your name\")\n",
    "        \n",
    "        with open(filename,'w') as f:\n",
    "            json.dump(username,f)\n",
    "            print(f\"we'll remember you when you come back,{username}\")\n",
    "            \n",
    "        else:\n",
    "            print(f\"welcome back,{username}\")  \n",
    "\n",
    "    "
   ]
  },
  {
   "cell_type": "code",
   "execution_count": null,
   "metadata": {},
   "outputs": [],
   "source": []
  }
 ],
 "metadata": {
  "kernelspec": {
   "display_name": "Python 3",
   "language": "python",
   "name": "python3"
  },
  "language_info": {
   "codemirror_mode": {
    "name": "ipython",
    "version": 3
   },
   "file_extension": ".py",
   "mimetype": "text/x-python",
   "name": "python",
   "nbconvert_exporter": "python",
   "pygments_lexer": "ipython3",
   "version": "3.7.3"
  }
 },
 "nbformat": 4,
 "nbformat_minor": 2
}

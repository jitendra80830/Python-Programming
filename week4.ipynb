{
 "cells": [
  {
   "cell_type": "code",
   "execution_count": 1,
   "metadata": {},
   "outputs": [
    {
     "name": "stdout",
     "output_type": "stream",
     "text": [
      "green\n",
      "5\n"
     ]
    }
   ],
   "source": [
    "#week-4,l-10\n",
    "#DICTIONARY:-\n",
    "# A Simple dictionary\n",
    "\n",
    "alien_0={'color': 'green','points': 5}\n",
    "print(alien_0['color'])\n",
    "print(alien_0['points'])"
   ]
  },
  {
   "cell_type": "code",
   "execution_count": 3,
   "metadata": {},
   "outputs": [
    {
     "name": "stdout",
     "output_type": "stream",
     "text": [
      "you just eand 5 points\n"
     ]
    }
   ],
   "source": [
    "#accessing value in a dictionary:\n",
    "alien_0={'color':'green','points': 5}\n",
    "new_points=alien_0['points']\n",
    "print(f\"you just eand {new_points} points\")"
   ]
  },
  {
   "cell_type": "code",
   "execution_count": 5,
   "metadata": {},
   "outputs": [
    {
     "name": "stdout",
     "output_type": "stream",
     "text": [
      "{'color': 'green', 'points': 5}\n",
      "{'color': 'green', 'points': 5, 'x_position': 0, 't_position': 25}\n"
     ]
    }
   ],
   "source": [
    "#adding new.key-value pairs:-\n",
    "alien_0={'color':'green','points': 5}\n",
    "print(alien_0)\n",
    "\n",
    "alien_0['x_position']=0\n",
    "alien_0['t_position']=25\n",
    "print(alien_0)"
   ]
  },
  {
   "cell_type": "code",
   "execution_count": 6,
   "metadata": {},
   "outputs": [
    {
     "name": "stdout",
     "output_type": "stream",
     "text": [
      "{'color': 'green', 'points': 5}\n"
     ]
    }
   ],
   "source": [
    "# empyt dictionary:-\n",
    "alien_0={}\n",
    "alien_0['color']='green'\n",
    "alien_0['points']=5\n",
    "print(alien_0)"
   ]
  },
  {
   "cell_type": "code",
   "execution_count": 9,
   "metadata": {
    "scrolled": true
   },
   "outputs": [
    {
     "name": "stdout",
     "output_type": "stream",
     "text": [
      "the alien is green\n",
      "the alien is new yellow\n"
     ]
    }
   ],
   "source": [
    "# Modifie value in a dictionary:-\n",
    "alien_0={'color': 'green','points': 5}\n",
    "print(f\"the alien is {alien_0['color']}\")\n",
    "alien_0['color']='yellow'\n",
    "print(f\"the alien is new {alien_0['color']}\")"
   ]
  },
  {
   "cell_type": "code",
   "execution_count": 13,
   "metadata": {},
   "outputs": [
    {
     "name": "stdout",
     "output_type": "stream",
     "text": [
      "original position 0\n",
      "new position 1\n"
     ]
    }
   ],
   "source": [
    "# Example:-\n",
    "alien_0={'x_position': 0,'y_position': 25,'speed': 'medium'}\n",
    "print(f\"original position {alien_0['x_position']}\")\n",
    "if alien_0['speed']=='slow':\n",
    "      x_increment=1\n",
    "elif alien_0['speed']=='medium':\n",
    "      x_increment=1\n",
    "else:\n",
    "      x_increment=3\n",
    "alien_0['x_position']=alien_0['x_position']+x_increment\n",
    "print(f\"new position {alien_0['x_position']}\")"
   ]
  },
  {
   "cell_type": "code",
   "execution_count": 15,
   "metadata": {},
   "outputs": [
    {
     "name": "stdout",
     "output_type": "stream",
     "text": [
      "{'color': 'green', 'points': 5}\n",
      "{'color': 'green'}\n"
     ]
    }
   ],
   "source": [
    "alien_0={'color': 'green','points': 5}\n",
    "print(alien_0)\n",
    "del alien_0['points']\n",
    "print(alien_0)"
   ]
  },
  {
   "cell_type": "code",
   "execution_count": 18,
   "metadata": {},
   "outputs": [
    {
     "name": "stdout",
     "output_type": "stream",
     "text": [
      "jen's favorite language is python\n"
     ]
    }
   ],
   "source": [
    "# Example-\n",
    "favorite_language={\n",
    "    'jen': 'python',\n",
    "    'sarah': 'c',\n",
    "    'edward': 'ruby',\n",
    "    'phil': 'python'\n",
    "    }\n",
    "language=favorite_language['jen']\n",
    "print(f\"jen's favorite language is {language}\")"
   ]
  },
  {
   "cell_type": "code",
   "execution_count": 19,
   "metadata": {},
   "outputs": [
    {
     "ename": "SyntaxError",
     "evalue": "unexpected EOF while parsing (<ipython-input-19-f31b6272821a>, line 3)",
     "output_type": "error",
     "traceback": [
      "\u001b[1;36m  File \u001b[1;32m\"<ipython-input-19-f31b6272821a>\"\u001b[1;36m, line \u001b[1;32m3\u001b[0m\n\u001b[1;33m    print(alien_0['points']\u001b[0m\n\u001b[1;37m                           ^\u001b[0m\n\u001b[1;31mSyntaxError\u001b[0m\u001b[1;31m:\u001b[0m unexpected EOF while parsing\n"
     ]
    }
   ],
   "source": [
    "# error value of no key in list:-\n",
    "alien_0={'color': 'green','speed': 'slow'}\n",
    "print(alien_0['points']"
   ]
  },
  {
   "cell_type": "code",
   "execution_count": 20,
   "metadata": {},
   "outputs": [
    {
     "name": "stdout",
     "output_type": "stream",
     "text": [
      "no points value aasigned.\n"
     ]
    }
   ],
   "source": [
    "# Example:-\n",
    "alien_0={'color': 'green','speed': 'slow'}\n",
    "points_value=alien_0.get('points','no points value aasigned.')\n",
    "print(points_value)"
   ]
  },
  {
   "cell_type": "code",
   "execution_count": 6,
   "metadata": {},
   "outputs": [
    {
     "name": "stdout",
     "output_type": "stream",
     "text": [
      "\n",
      "key: username\n",
      "value: efermi\n",
      "\n",
      "key: first\n",
      "value: enrika\n",
      "\n",
      "key: last\n",
      "value: fermi\n"
     ]
    }
   ],
   "source": [
    "# Loop through a dictionary:-\n",
    "# Example:- 1\n",
    "\n",
    "user_0={\n",
    "    'username': 'efermi',\n",
    "    'first': 'enrika',\n",
    "    'last': 'fermi'\n",
    "    }\n",
    "for key,value in user_0.items():\n",
    "    print(f\"\\nkey: {key}\")\n",
    "    print(f\"value: {value}\")"
   ]
  },
  {
   "cell_type": "code",
   "execution_count": 7,
   "metadata": {},
   "outputs": [
    {
     "name": "stdout",
     "output_type": "stream",
     "text": [
      "\n",
      "Jen's favrote language is Python\n",
      "\n",
      "Sarah's favrote language is C\n",
      "\n",
      "Edward's favrote language is Ruby\n",
      "\n",
      "Phin's favrote language is Python\n"
     ]
    }
   ],
   "source": [
    "#Example:-2\n",
    "favorite_language={\n",
    "    'jen': 'python',\n",
    "    'sarah': 'c',\n",
    "    'edward': 'ruby',\n",
    "    'phin': 'python'\n",
    "    }\n",
    "for name,language in favorite_language.items():\n",
    "    print(f\"\\n{name.title()}'s favrote language is {language.title()}\")"
   ]
  },
  {
   "cell_type": "code",
   "execution_count": 9,
   "metadata": {},
   "outputs": [
    {
     "name": "stdout",
     "output_type": "stream",
     "text": [
      "Jen\n",
      "Sarah\n",
      "Edward\n",
      "Phil\n"
     ]
    }
   ],
   "source": [
    "# if you print only keys:-\n",
    "\n",
    "favorite_language={\n",
    "    'jen': 'python',\n",
    "    'sarah': 'c',\n",
    "    'edward': 'ruby',\n",
    "    'phil': 'python'\n",
    "    }\n",
    "for name in favorite_language.keys():\n",
    "    print(name.title())"
   ]
  },
  {
   "cell_type": "code",
   "execution_count": 24,
   "metadata": {},
   "outputs": [
    {
     "name": "stdout",
     "output_type": "stream",
     "text": [
      "Jen\n",
      "Sarah\n",
      "Sarah,i see you love C\n",
      "Edward\n",
      "Phil\n",
      "Phil,i see you love Python\n"
     ]
    }
   ],
   "source": [
    "# if you print a message with the any value:-\n",
    "favorite_languages={\n",
    "    'jen': 'python',\n",
    "    'sarah': 'c',\n",
    "    'edward': 'ruby',\n",
    "    'phil': 'python'\n",
    "     }\n",
    "friends=['phil','sarah']\n",
    "for name in favorite_languages.keys():\n",
    "    print(name.title())\n",
    "    if name in friends:\n",
    "        language=(favorite_languages[name].title())\n",
    "        \n",
    "        print(f\"{name.title()},i see you love {language}\")"
   ]
  },
  {
   "cell_type": "code",
   "execution_count": 27,
   "metadata": {},
   "outputs": [
    {
     "name": "stdout",
     "output_type": "stream",
     "text": [
      "earimed, pleaseb take our poll.\n"
     ]
    }
   ],
   "source": [
    "# print a message if not keys in dict....\n",
    "favorite_languages={\n",
    "    'jen': 'python',\n",
    "    'sarah': 'c',\n",
    "    'edward': 'ruby',\n",
    "    'phil': 'python'\n",
    "     }\n",
    "if 'earimed' not in favorite_languages.keys():\n",
    "    print(\"earimed, pleaseb take our poll.\")"
   ]
  },
  {
   "cell_type": "code",
   "execution_count": 29,
   "metadata": {},
   "outputs": [
    {
     "name": "stdout",
     "output_type": "stream",
     "text": [
      "Edward.thank you for taking the poll.\n",
      "Jen.thank you for taking the poll.\n",
      "Phil.thank you for taking the poll.\n",
      "Sarah.thank you for taking the poll.\n"
     ]
    }
   ],
   "source": [
    "# if you print in ordered:-\n",
    "favorite_languages={\n",
    "    'jen': 'python',\n",
    "    'sarah': 'c',\n",
    "    'edward': 'ruby',\n",
    "    'phil': 'python'\n",
    "     }\n",
    "for name in sorted(favorite_language.keys()):\n",
    "    print(f\"{name.title()}.thank you for taking the poll.\")"
   ]
  },
  {
   "cell_type": "code",
   "execution_count": 33,
   "metadata": {},
   "outputs": [
    {
     "name": "stdout",
     "output_type": "stream",
     "text": [
      "The following language have been mentioned\n",
      "Python\n",
      "C\n",
      "Ruby\n",
      "Python\n"
     ]
    }
   ],
   "source": [
    "# if you print only value:-\n",
    "favorite_languages={\n",
    "    'jen': 'python',\n",
    "    'sarah': 'c',\n",
    "    'edward': 'ruby',\n",
    "    'phil': 'python'\n",
    "     }\n",
    "print(\"The following language have been mentioned\")\n",
    "for language in favorite_languages.values():\n",
    "    print(language.title())"
   ]
  },
  {
   "cell_type": "code",
   "execution_count": 34,
   "metadata": {},
   "outputs": [
    {
     "name": "stdout",
     "output_type": "stream",
     "text": [
      "The following language have been mentioned\n",
      "Ruby\n",
      "C\n",
      "Python\n"
     ]
    }
   ],
   "source": [
    "# use set methon and print unique language:-\n",
    "favorite_languages={\n",
    "    'jen': 'python',\n",
    "    'sarah': 'c',\n",
    "    'edward': 'ruby',\n",
    "    'phil': 'python'\n",
    "     }\n",
    "print(\"The following language have been mentioned\")\n",
    "for language in set(favorite_languages.values()):\n",
    "    print(language.title())"
   ]
  },
  {
   "cell_type": "code",
   "execution_count": 36,
   "metadata": {},
   "outputs": [
    {
     "name": "stdout",
     "output_type": "stream",
     "text": [
      "{'color': 'green', 'points': 5}\n",
      "{'color': 'yellow', 'points': 10}\n",
      "{'color': 'red', 'points': 15}\n"
     ]
    }
   ],
   "source": [
    "# NESTING(MULTIPLE DICT):-\n",
    "# A list of Dictionaries-\n",
    "\n",
    "alien_0={'color': 'green','points': 5}\n",
    "alien_1={'color': 'yellow','points': 10}\n",
    "alien_2={'color':'red','points': 15}\n",
    "aliens=[alien_0,alien_1,alien_2]\n",
    "for alien in aliens:\n",
    "    print(alien)"
   ]
  },
  {
   "cell_type": "code",
   "execution_count": 40,
   "metadata": {},
   "outputs": [
    {
     "name": "stdout",
     "output_type": "stream",
     "text": [
      "{'color': 'green', 'points': 5, 'speed': 'slow'}\n",
      "{'color': 'green', 'points': 5, 'speed': 'slow'}\n",
      "{'color': 'green', 'points': 5, 'speed': 'slow'}\n",
      "{'color': 'green', 'points': 5, 'speed': 'slow'}\n",
      "{'color': 'green', 'points': 5, 'speed': 'slow'}\n",
      "\n",
      "Total no of alien 30\n"
     ]
    }
   ],
   "source": [
    "# For empty list:-\n",
    "aliens=[]\n",
    "for alien_number in range(30):\n",
    "    new_alien={'color':'green','points': 5,'speed': 'slow'}\n",
    "    aliens.append(new_alien)\n",
    "for alien in aliens[:5]:\n",
    "    print(alien)\n",
    "print(f\"\\nTotal no of alien {len(aliens)}\")"
   ]
  },
  {
   "cell_type": "code",
   "execution_count": 49,
   "metadata": {},
   "outputs": [
    {
     "name": "stdout",
     "output_type": "stream",
     "text": [
      "{'color': 'yellow', 'points': '10', 'speed': 'mediam'}\n",
      "{'color': 'yellow', 'points': '10', 'speed': 'mediam'}\n",
      "{'color': 'yellow', 'points': '10', 'speed': 'mediam'}\n",
      "{'color': 'green', 'points': 5, 'speed': 'slow'}\n",
      "{'color': 'green', 'points': 5, 'speed': 'slow'}\n"
     ]
    }
   ],
   "source": [
    "# if you want to prin 1st 3 aliens is yellow:-\n",
    "liens=[]\n",
    "for alien_number in range(30):\n",
    "    new_alien={'color':'green','points': 5,'speed': 'slow'}\n",
    "    aliens.append(new_alien)\n",
    "for alien in aliens[:3]:\n",
    "    if alien['color']=='green':\n",
    "        alien['color']='yellow'\n",
    "        alien['speed']='mediam'\n",
    "        alien['points']='10'\n",
    "for alien in aliens[:5]:\n",
    "    print(alien)"
   ]
  },
  {
   "cell_type": "code",
   "execution_count": 62,
   "metadata": {},
   "outputs": [
    {
     "name": "stdout",
     "output_type": "stream",
     "text": [
      "{'color': 'red', 'points': 15, 'speed': 'fast'}\n",
      "{'color': 'red', 'points': 15, 'speed': 'fast'}\n",
      "{'color': 'red', 'points': 15, 'speed': 'fast'}\n",
      "{'color': 'green', 'points': 5, 'speed': 'slow'}\n",
      "{'color': 'green', 'points': 5, 'speed': 'slow'}\n"
     ]
    }
   ],
   "source": [
    "\n",
    "# if you want to prin 1st 3 aliens is yellow:-\n",
    "liens=[]\n",
    "for alien_number in range(30):\n",
    "    new_alien={'color':'green','points': 5,'speed': 'slow'}\n",
    "    aliens.append(new_alien)\n",
    "for alien in aliens[:3]:\n",
    "    if alien['color']=='green':\n",
    "        alien['color']='yellow'\n",
    "        alien['speed']='mediam'\n",
    "        alien['points']=10\n",
    "        \n",
    "for alien in aliens[:5]:\n",
    "    print(alien)"
   ]
  },
  {
   "cell_type": "code",
   "execution_count": 67,
   "metadata": {},
   "outputs": [
    {
     "name": "stdout",
     "output_type": "stream",
     "text": [
      "you ordered a thick-crust pizza  with the following topping\n",
      "\tmoshroom\n",
      "\textracheese\n"
     ]
    }
   ],
   "source": [
    "# store imfomation about a pizza bieng ordered:-\n",
    "pizza={\n",
    "    'crust': 'thick',\n",
    "    'topping': ['moshroom','extracheese']\n",
    "    }\n",
    "print(f\"you ordered a {pizza['crust']}-crust pizza  with the following topping\" )\n",
    "for topping in pizza['topping']:\n",
    "      print(\"\\t\" + topping)"
   ]
  },
  {
   "cell_type": "code",
   "execution_count": 32,
   "metadata": {},
   "outputs": [
    {
     "name": "stdout",
     "output_type": "stream",
     "text": [
      "jen's favorite language are\n",
      "python\n",
      "ruby\n",
      "sahar's favorite language are\n",
      "c\n",
      "edward's favorite language are\n",
      "ruby\n",
      "go\n",
      "phil's favorite language are\n",
      "python\n",
      "hashell\n"
     ]
    }
   ],
   "source": [
    "# for multiple favorite languagees:-\n",
    "favorite_languages={\n",
    "    'jen': ['python','ruby'],\n",
    "    'sahar': ['c'],\n",
    "    'edward': ['ruby','go'],\n",
    "    'phil': ['python','hashell']\n",
    "     }\n",
    "for name,language in favorite_languages.items():\n",
    "    print(f\"{name}'s favorite language are\")\n",
    "    for language in language:\n",
    "        print(language)"
   ]
  },
  {
   "cell_type": "code",
   "execution_count": 55,
   "metadata": {},
   "outputs": [
    {
     "name": "stdout",
     "output_type": "stream",
     "text": [
      "\n",
      "username:aeintein\n",
      "full_name: Albertaeintein\n"
     ]
    },
    {
     "ename": "NameError",
     "evalue": "name 'location' is not defined",
     "output_type": "error",
     "traceback": [
      "\u001b[1;31m---------------------------------------------------------------------------\u001b[0m",
      "\u001b[1;31mNameError\u001b[0m                                 Traceback (most recent call last)",
      "\u001b[1;32m<ipython-input-55-330c03850614>\u001b[0m in \u001b[0;36m<module>\u001b[1;34m\u001b[0m\n\u001b[0;32m     17\u001b[0m     \u001b[0mfull_name\u001b[0m\u001b[1;33m=\u001b[0m\u001b[1;33m(\u001b[0m\u001b[1;34mf\"{user_info['first']}{user_info['last']}\"\u001b[0m\u001b[1;33m)\u001b[0m\u001b[1;33m\u001b[0m\u001b[1;33m\u001b[0m\u001b[0m\n\u001b[0;32m     18\u001b[0m     \u001b[0mprint\u001b[0m\u001b[1;33m(\u001b[0m\u001b[1;34mf\"full_name: {full_name.title()}\"\u001b[0m\u001b[1;33m)\u001b[0m\u001b[1;33m\u001b[0m\u001b[1;33m\u001b[0m\u001b[0m\n\u001b[1;32m---> 19\u001b[1;33m     \u001b[0mprint\u001b[0m\u001b[1;33m(\u001b[0m\u001b[1;34mf\"location: {location.title()}\"\u001b[0m\u001b[1;33m)\u001b[0m\u001b[1;33m\u001b[0m\u001b[1;33m\u001b[0m\u001b[0m\n\u001b[0m",
      "\u001b[1;31mNameError\u001b[0m: name 'location' is not defined"
     ]
    }
   ],
   "source": [
    "# A DICTIONAY IN A DICTIONARY:-\n",
    "\n",
    "user={\n",
    "    'aeintein':{\n",
    "        'first': 'albert',\n",
    "        'last': 'aeintein',\n",
    "        'location':'princetion',\n",
    "        },\n",
    "    'mcurie':{\n",
    "        'first': 'marie',\n",
    "        'last': 'curie',\n",
    "        'location': 'paris',\n",
    "        }\n",
    "    }\n",
    "for username,user_info in user.items():\n",
    "    print(f\"\\nusername:{username}\")\n",
    "    full_name=(f\"{user_info['first']}{user_info['last']}\")\n",
    "    print(f\"full_name: {full_name.title()}\")\n",
    "    print(f\"location: {location.title()}\")"
   ]
  },
  {
   "cell_type": "code",
   "execution_count": 1,
   "metadata": {},
   "outputs": [
    {
     "name": "stdout",
     "output_type": "stream",
     "text": [
      "New delhi\n",
      "unknown\n",
      "London\n",
      "dict_keys(['India', 'Usa', 'Franch', 'Sri lanka', 'Uk'])\n",
      "dict_values(['New delhi', 'Washington dc', 'Paris', 'Colombo', 'London'])\n",
      "5\n",
      "True\n",
      "False\n",
      "{'India': 'New delhi', 'Franch': 'Paris', 'Sri lanka': 'Colombo', 'Uk': 'London'}\n",
      "{'India': 'New delhi', 'Franch': 'Paris', 'Sri lanka': 'Sri Jayawardenepura Kotte', 'Uk': 'London'}\n",
      "['Franch', 'India', 'Sri lanka', 'Uk']\n"
     ]
    }
   ],
   "source": [
    "#OPERATION ON DICTIONARY:-\n",
    "capital={'India': 'New delhi','Usa': 'Washington dc','Franch': 'Paris','Sri lanka': 'Colombo'}\n",
    "print(capital['India'])\n",
    "print(capital.get('Uk', 'unknown'))\n",
    "capital['Uk']='London'\n",
    "print(capital['Uk'])\n",
    "print(capital.keys())\n",
    "print(capital.values())\n",
    "\n",
    "print(len(capital))\n",
    "\n",
    "print('Usa' in capital)\n",
    "\n",
    "print('russia' in capital)\n",
    "\n",
    "del capital['Usa']\n",
    "print(capital)\n",
    "\n",
    "capital['Sri lanka']='Sri Jayawardenepura Kotte'\n",
    "print(capital)\n",
    "\n",
    "countries=[]\n",
    "for k in capital:\n",
    "    countries.append(k)\n",
    "    countries.sort()\n",
    "print(countries)"
   ]
  },
  {
   "cell_type": "code",
   "execution_count": 1,
   "metadata": {},
   "outputs": [
    {
     "name": "stdout",
     "output_type": "stream",
     "text": [
      "Tell me something,and i will repeat it back to you:Hello everyone\n"
     ]
    }
   ],
   "source": [
    "# L-12.\n",
    "# USER INPUT AND WHILOE LOOPS:-\n",
    "# How the input() funtion:-\n",
    "\n",
    "message=input(\"Tell me something,and i will repeat it back to you:\")"
   ]
  },
  {
   "cell_type": "code",
   "execution_count": 2,
   "metadata": {},
   "outputs": [
    {
     "name": "stdout",
     "output_type": "stream",
     "text": [
      "please enter your name:jitendr\n",
      "\n",
      "Hello,jitendr!\n"
     ]
    }
   ],
   "source": [
    " name=input(\"please enter your name:\")\n",
    "print(f\"\\nHello,{name}!\")"
   ]
  },
  {
   "cell_type": "code",
   "execution_count": 1,
   "metadata": {},
   "outputs": [
    {
     "name": "stdout",
     "output_type": "stream",
     "text": [
      "\n",
      "what is you name?jitendra kumar\n",
      "\n",
      "Hello,jitendra kumar!\n"
     ]
    }
   ],
   "source": [
    "prompt=\"if you tell us who are you,we can personalize the message you se.\"\n",
    "prompt=\"\\nwhat is you name?\"\n",
    "name=input(prompt)\n",
    "print(f\"\\nHello,{name}!\")"
   ]
  },
  {
   "cell_type": "code",
   "execution_count": 1,
   "metadata": {},
   "outputs": [
    {
     "name": "stdout",
     "output_type": "stream",
     "text": [
      "how old are ypu?.21\n",
      "True\n"
     ]
    }
   ],
   "source": [
    "#accept numerical input\n",
    "\n",
    "age=input(\"how old are ypu?.\")\n",
    "age=int(age)\n",
    "print(age>=18)"
   ]
  },
  {
   "cell_type": "code",
   "execution_count": 5,
   "metadata": {},
   "outputs": [
    {
     "name": "stdout",
     "output_type": "stream",
     "text": [
      "How tall are you, in inches75\n",
      "\n",
      "you are tall enough to ride\n"
     ]
    }
   ],
   "source": [
    "# example:-\n",
    "height=input(\"How tall are you, in inches\")\n",
    "height=int(height)\n",
    "if height>=48:\n",
    "    print(\"\\nyou are tall enough to ride\")\n",
    "else:\n",
    "    print(\"\\nyou'll be able to ride when you're a little older\")"
   ]
  },
  {
   "cell_type": "code",
   "execution_count": 8,
   "metadata": {},
   "outputs": [
    {
     "name": "stdout",
     "output_type": "stream",
     "text": [
      "Enter the number,and i'll tell you if it's even or odd number4\n",
      "\n",
      "The number 4 is even.\n"
     ]
    }
   ],
   "source": [
    "# print even number or odd:-\n",
    "number=input(\"Enter the number,and i'll tell you if it's even or odd number\")\n",
    "number=int(number)\n",
    "if number%2==0:\n",
    "    print(f\"\\nThe number {number} is even.\")\n",
    "else:\n",
    "    print(f\"\\nThe number {number} is odd\")"
   ]
  },
  {
   "cell_type": "code",
   "execution_count": 1,
   "metadata": {},
   "outputs": [
    {
     "name": "stdout",
     "output_type": "stream",
     "text": [
      "1\n",
      "2\n",
      "3\n",
      "4\n",
      "5\n"
     ]
    }
   ],
   "source": [
    "#INTRIDUCSCING WHILE LOOPS-\n",
    "# The  while loop in action:\n",
    "current_number=1\n",
    "while current_number<=5:\n",
    "    print(current_number)\n",
    "    current_number +=1"
   ]
  },
  {
   "cell_type": "code",
   "execution_count": 1,
   "metadata": {},
   "outputs": [
    {
     "name": "stdout",
     "output_type": "stream",
     "text": [
      "Tell me something, and i will repeat it back to you:\n",
      "Enter 'quit' to end the program.quit\n"
     ]
    }
   ],
   "source": [
    "# example:-\n",
    "prompt=\"Tell me something, and i will repeat it back to you:\"\n",
    "prompt+=\"\\nEnter 'quit' to end the program.\"\n",
    "message=\"\"\n",
    "while message!='quit':\n",
    "    message=input(prompt)\n",
    "    if message!='quit':\n",
    "        print(message)\n"
   ]
  },
  {
   "cell_type": "code",
   "execution_count": 2,
   "metadata": {},
   "outputs": [
    {
     "name": "stdout",
     "output_type": "stream",
     "text": [
      "\n",
      "Please enter the name of a city you have visited.\n",
      "enter 'quit' when you are finishedkolkata\n",
      "i'd love to go to Kolkata\n",
      "\n",
      "Please enter the name of a city you have visited.\n",
      "enter 'quit' when you are finishedquit\n"
     ]
    }
   ],
   "source": [
    "#Using break to exot a loop\n",
    "prompt=\"\\nPlease enter the name of a city you have visited.\"\n",
    "prompt+=\"\\nenter 'quit' when you are finished\"\n",
    "while True:\n",
    "    city=input(prompt)\n",
    "    if city=='quit':\n",
    "        break\n",
    "    else:\n",
    "        print(f\"i'd love to go to {city.title()}\")\n",
    "    "
   ]
  },
  {
   "cell_type": "code",
   "execution_count": 5,
   "metadata": {},
   "outputs": [
    {
     "name": "stdout",
     "output_type": "stream",
     "text": [
      "1\n",
      "3\n",
      "5\n",
      "7\n",
      "9\n"
     ]
    }
   ],
   "source": [
    "#Example:-\n",
    "current_number=0\n",
    "while current_number<10:\n",
    "    current_number+=1\n",
    "    if current_number%2==0:\n",
    "        continue\n",
    "    print(current_number) \n",
    "    "
   ]
  },
  {
   "cell_type": "code",
   "execution_count": 6,
   "metadata": {},
   "outputs": [
    {
     "name": "stdout",
     "output_type": "stream",
     "text": [
      "1\n",
      "2\n",
      "3\n",
      "4\n",
      "5\n"
     ]
    }
   ],
   "source": [
    "x=1\n",
    "while x<=5:\n",
    "    print(x)\n",
    "    x+=1"
   ]
  },
  {
   "cell_type": "code",
   "execution_count": null,
   "metadata": {},
   "outputs": [],
   "source": []
  }
 ],
 "metadata": {
  "kernelspec": {
   "display_name": "Python 3",
   "language": "python",
   "name": "python3"
  },
  "language_info": {
   "codemirror_mode": {
    "name": "ipython",
    "version": 3
   },
   "file_extension": ".py",
   "mimetype": "text/x-python",
   "name": "python",
   "nbconvert_exporter": "python",
   "pygments_lexer": "ipython3",
   "version": "3.7.3"
  }
 },
 "nbformat": 4,
 "nbformat_minor": 2
}

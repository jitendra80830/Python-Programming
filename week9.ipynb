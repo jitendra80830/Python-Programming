{
 "cells": [
  {
   "cell_type": "code",
   "execution_count": 1,
   "metadata": {},
   "outputs": [
    {
     "name": "stdout",
     "output_type": "stream",
     "text": [
      "Give me two number,and divide them\n",
      "enter 'q' to quit.\n",
      "\n",
      " first number8\n",
      "\n",
      "second number9\n",
      "0.8888888888888888\n",
      "\n",
      " first number4\n",
      "\n",
      "second number2\n",
      "2.0\n",
      "\n",
      " first numberq\n"
     ]
    }
   ],
   "source": [
    "#EXCEPTION\n",
    "print(\"Give me two number,and divide them\")\n",
    "print(\"enter 'q' to quit.\")\n",
    "\n",
    "while True:\n",
    "    first_number=input(\"\\n first number\")\n",
    "    if first_number=='q':\n",
    "        break\n",
    "    second_number=input(\"\\nsecond number\")\n",
    "    if second_number=='q':\n",
    "        break\n",
    "\n",
    "    answer=int(first_number)/int(second_number)\n",
    "\n",
    "    print(answer)"
   ]
  },
  {
   "cell_type": "code",
   "execution_count": 4,
   "metadata": {},
   "outputs": [
    {
     "ename": "SyntaxError",
     "evalue": "invalid syntax (<ipython-input-4-0805501c52ca>, line 6)",
     "output_type": "error",
     "traceback": [
      "\u001b[1;36m  File \u001b[1;32m\"<ipython-input-4-0805501c52ca>\"\u001b[1;36m, line \u001b[1;32m6\u001b[0m\n\u001b[1;33m    FileNotFoundError:[Error2] no such file or directory:'ramayana.txt'\u001b[0m\n\u001b[1;37m                                ^\u001b[0m\n\u001b[1;31mSyntaxError\u001b[0m\u001b[1;31m:\u001b[0m invalid syntax\n"
     ]
    }
   ],
   "source": [
    "#FileNotFoundErrr Exception\n",
    "filename='ramayana.txt'\n",
    "with open(filename,encoding='utf-8') as f:\n",
    "    content=f.read()\n",
    "    \n",
    "FileNotFoundError:[Error2] no such file or directory:'ramayana.txt'"
   ]
  },
  {
   "cell_type": "code",
   "execution_count": 3,
   "metadata": {},
   "outputs": [
    {
     "name": "stdout",
     "output_type": "stream",
     "text": [
      "Gime me two number,and divide them\n",
      "enter 'q' to quit\n",
      "\n",
      "first number8\n",
      "\n",
      "second number4\n",
      "2.0\n",
      "\n",
      "first number8\n",
      "\n",
      "second number0\n",
      "you can't divide by zero\n",
      "\n",
      "first number345522\n",
      "\n",
      "second number376744\n",
      "0.9171267491983947\n",
      "\n",
      "first numberq\n"
     ]
    }
   ],
   "source": [
    "# Else Block:\n",
    "print(\"Gime me two number,and divide them\")\n",
    "print(\"enter 'q' to quit\")\n",
    "\n",
    "while True:\n",
    "    first_number=input(\"\\nfirst number\")\n",
    "    if first_number=='q':\n",
    "        break\n",
    "    \n",
    "    second_number=input(\"\\nsecond number\")\n",
    "    if second_number=='q':\n",
    "        break\n",
    "        \n",
    "    try:\n",
    "        answer=int(first_number)/int(second_number)\n",
    "    except ZeroDivisionError:\n",
    "        print(\"you can't divide by zero\")\n",
    "    else:\n",
    "        print(answer)"
   ]
  },
  {
   "cell_type": "code",
   "execution_count": 15,
   "metadata": {},
   "outputs": [
    {
     "name": "stdout",
     "output_type": "stream",
     "text": [
      "Roger Federar\n",
      "Rafael Nadal\n",
      "Andy Murray\n",
      "Novak Djokovic\n",
      "Leader Paes\n",
      "\n",
      "Switzerland\n",
      "Spain\n",
      "Britain\n",
      "Serbia\n",
      "India\n",
      "\n",
      "['Roger Federar', 'Rafael Nadal', 'Andy Murray', 'Novak Djokovic', 'Leader Paes']\n",
      "['Switzerland', 'Spain', 'Britain', 'Serbia', 'India']\n",
      "[('Roger Federar', 'Switzerland'), ('Rafael Nadal', 'Spain'), ('Andy Murray', 'Britain'), ('Novak Djokovic', 'Serbia'), ('Leader Paes', 'India')]\n",
      "{'Roger Federar': 'Switzerland', 'Rafael Nadal': 'Spain', 'Andy Murray': 'Britain', 'Novak Djokovic': 'Serbia', 'Leader Paes': 'India'}\n",
      "India\n"
     ]
    }
   ],
   "source": [
    "#l-26\n",
    "#Example of i/o file\n",
    "\n",
    "players = open('tennis_players', 'w')\n",
    "players.write('Roger Federar\\n')\n",
    "players.write('Rafael Nadal\\n')\n",
    "players.write('Andy Murray\\n')\n",
    "players.write('Novak Djokovic\\n')\n",
    "players.write('Leader Paes\\n')\n",
    "players.close() # done with writing\n",
    "\n",
    "countries = open('tennis_countries', 'w')\n",
    "countries.write('Switzerland\\n')\n",
    "countries.write('Spain\\n')\n",
    "countries.write('Britain\\n')\n",
    "countries.write('Serbia\\n')\n",
    "countries.write('India\\n')\n",
    "countries.close() # done with writing\n",
    "\n",
    "n=open('tennis_players','r')\n",
    "c=open('tennis_countries','r')\n",
    "pn=n.read() #read all players\n",
    "print(pn)\n",
    "pc=c.read()\n",
    "print(pc)\n",
    "n.close()\n",
    "c.close()\n",
    "\n",
    "n=open('tennis_players','r')\n",
    "c=open('tennis_countries','r')\n",
    "pn,pc=[],[]\n",
    "for i in n:\n",
    "    pn.append(i[:-1])\n",
    "for i in c:\n",
    "    pc.append(i[:-1])\n",
    "    \n",
    "print(pn)\n",
    "print(pc)\n",
    "\n",
    "name_country=[]\n",
    "for i in range(len(pn)):\n",
    "    name_country.append((pn[i],pc[i]))\n",
    "print(name_country)\n",
    "n2c=dict(name_country)\n",
    "print(n2c)\n",
    "print(n2c['Leader Paes'])"
   ]
  },
  {
   "cell_type": "code",
   "execution_count": 13,
   "metadata": {},
   "outputs": [
    {
     "data": {
      "text/plain": [
       "3.0"
      ]
     },
     "execution_count": 13,
     "metadata": {},
     "output_type": "execute_result"
    }
   ],
   "source": [
    "#l-27\n",
    "#Assertion statement\n",
    "def compute_avg(marks):\n",
    "    \"\"\"Marks can not be empty\"\"\"\n",
    "    assert len(marks)>0\n",
    "    sum=0.0\n",
    "    for m in marks:\n",
    "        sum=sum+m\n",
    "    return sum/len(marks)\n",
    "compute_avg([1,2,3,4,5])"
   ]
  },
  {
   "cell_type": "code",
   "execution_count": 18,
   "metadata": {},
   "outputs": [
    {
     "name": "stdout",
     "output_type": "stream",
     "text": [
      "<str_iterator object at 0x000002A323BB6390>\n",
      "a\n",
      "b\n",
      "c\n"
     ]
    },
    {
     "ename": "StopIteration",
     "evalue": "",
     "output_type": "error",
     "traceback": [
      "\u001b[1;31m---------------------------------------------------------------------------\u001b[0m",
      "\u001b[1;31mStopIteration\u001b[0m                             Traceback (most recent call last)",
      "\u001b[1;32m<ipython-input-18-ef2d17318127>\u001b[0m in \u001b[0;36m<module>\u001b[1;34m\u001b[0m\n\u001b[0;32m      6\u001b[0m \u001b[0mprint\u001b[0m\u001b[1;33m(\u001b[0m\u001b[0mnext\u001b[0m\u001b[1;33m(\u001b[0m\u001b[0mit\u001b[0m\u001b[1;33m)\u001b[0m\u001b[1;33m)\u001b[0m\u001b[1;33m\u001b[0m\u001b[1;33m\u001b[0m\u001b[0m\n\u001b[0;32m      7\u001b[0m \u001b[0mprint\u001b[0m\u001b[1;33m(\u001b[0m\u001b[0mnext\u001b[0m\u001b[1;33m(\u001b[0m\u001b[0mit\u001b[0m\u001b[1;33m)\u001b[0m\u001b[1;33m)\u001b[0m\u001b[1;33m\u001b[0m\u001b[1;33m\u001b[0m\u001b[0m\n\u001b[1;32m----> 8\u001b[1;33m \u001b[0mprint\u001b[0m\u001b[1;33m(\u001b[0m\u001b[0mnext\u001b[0m\u001b[1;33m(\u001b[0m\u001b[0mit\u001b[0m\u001b[1;33m)\u001b[0m\u001b[1;33m)\u001b[0m\u001b[1;33m\u001b[0m\u001b[1;33m\u001b[0m\u001b[0m\n\u001b[0m",
      "\u001b[1;31mStopIteration\u001b[0m: "
     ]
    }
   ],
   "source": [
    "#Iterators\n",
    "s='abc'\n",
    "it=iter(s)\n",
    "print(it)\n",
    "print(next(it))\n",
    "print(next(it))\n",
    "print(next(it))\n",
    "print(next(it)) #index is empty"
   ]
  },
  {
   "cell_type": "code",
   "execution_count": 20,
   "metadata": {},
   "outputs": [
    {
     "name": "stdout",
     "output_type": "stream",
     "text": [
      "n\n",
      "a\n",
      "p\n",
      "s\n"
     ]
    }
   ],
   "source": [
    "#Example with class\n",
    "class Reverse:\n",
    "    \"\"\"Iterator for looping over a sequence backwords\"\"\"\n",
    "    def __init__(self,data):\n",
    "        self.data=data\n",
    "        self.index=len(data)\n",
    "        \n",
    "    def __iter__(self):\n",
    "        return self\n",
    "    def __next__(self):\n",
    "        if self.index==0:\n",
    "            raise StopIteration\n",
    "        self.index=self.index-1\n",
    "        return self.data[self.index]\n",
    "rev=Reverse('span')\n",
    "for m in rev:\n",
    "    print(m)\n",
    "    "
   ]
  },
  {
   "cell_type": "code",
   "execution_count": null,
   "metadata": {},
   "outputs": [],
   "source": []
  }
 ],
 "metadata": {
  "kernelspec": {
   "display_name": "Python 3",
   "language": "python",
   "name": "python3"
  },
  "language_info": {
   "codemirror_mode": {
    "name": "ipython",
    "version": 3
   },
   "file_extension": ".py",
   "mimetype": "text/x-python",
   "name": "python",
   "nbconvert_exporter": "python",
   "pygments_lexer": "ipython3",
   "version": "3.7.3"
  }
 },
 "nbformat": 4,
 "nbformat_minor": 2
}

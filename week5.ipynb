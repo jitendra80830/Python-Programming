{
 "cells": [
  {
   "cell_type": "code",
   "execution_count": 15,
   "metadata": {},
   "outputs": [
    {
     "name": "stdout",
     "output_type": "stream",
     "text": [
      "Verifying user:Krishna\n",
      "Verifying user:Shayam\n",
      "Verifying user:Ram\n",
      "\n",
      "Following users have been confermed.\n",
      "Krishna\n",
      "Shayam\n",
      "Ram\n"
     ]
    }
   ],
   "source": [
    "#using a while loop with list and dictionary\n",
    "\n",
    "#Moving items from one list to another:-\n",
    "unconfermed_users=['ram','shayam','krishna']\n",
    "confermed_users=[]\n",
    "while unconfermed_users:\n",
    "    current_user=unconfermed_users.pop()\n",
    "    \n",
    "    print(f\"Verifying user:\" + current_user.title())\n",
    "    confermed_users.append(current_user)\n",
    "    \n",
    "print(\"\\nFollowing users have been confermed.\")\n",
    "for confermed_user in confermed_users:\n",
    "        print(confermed_user.title())"
   ]
  },
  {
   "cell_type": "code",
   "execution_count": 3,
   "metadata": {},
   "outputs": [
    {
     "name": "stdout",
     "output_type": "stream",
     "text": [
      "['dog', 'cat', 'dog', 'golgfish', 'cat', 'rabit', 'cat']\n",
      "['dog', 'dog', 'golgfish', 'rabit']\n"
     ]
    }
   ],
   "source": [
    "# Removing all instance of specific value fropm list:-\n",
    "pets=['dog','cat','dog','golgfish','cat','rabit','cat']\n",
    "print(pets)\n",
    "while 'cat' in pets:\n",
    "    pets.remove('cat')\n",
    "print(pets)"
   ]
  },
  {
   "cell_type": "code",
   "execution_count": 2,
   "metadata": {},
   "outputs": [
    {
     "name": "stdout",
     "output_type": "stream",
     "text": [
      "\n",
      "What is your name?ram\n",
      "Which mountain would you like to climb someday?kuleshwari\n",
      "would you like to let another person response?(yes/no)yes\n",
      "\n",
      "What is your name?jitendra\n",
      "Which mountain would you like to climb someday?bageshwari\n",
      "would you like to let another person response?(yes/no)no\n",
      "\n",
      ".....poll Result....\n",
      "ram would like to climb kuleshwari\n",
      "jitendra would like to climb bageshwari\n"
     ]
    }
   ],
   "source": [
    "#filling a dict wuth user input:-\n",
    "responses={}\n",
    "polling_active=True\n",
    "while polling_active:\n",
    "    name=input(\"\\nWhat is your name?\")\n",
    "    response=input('Which mountain would you like to climb someday?')\n",
    "    responses[name]=response\n",
    "    repeat=input(\"would you like to let another person response?(yes/no)\")\n",
    "    if repeat=='no':\n",
    "        polling_active=False\n",
    "print(\"\\n.....poll Result....\")\n",
    "for name,response in responses.items():\n",
    "        print(f\"{name} would like to climb {response}\")    \n",
    "    \n",
    "    "
   ]
  },
  {
   "cell_type": "code",
   "execution_count": 2,
   "metadata": {},
   "outputs": [
    {
     "name": "stdout",
     "output_type": "stream",
     "text": [
      "Enter a number15\n",
      "Table of 15\n",
      "15 x 1 = 15\n",
      "15 x 1 = 30\n",
      "15 x 1 = 45\n",
      "15 x 1 = 60\n",
      "15 x 1 = 75\n",
      "15 x 1 = 90\n",
      "15 x 1 = 105\n",
      "15 x 1 = 120\n",
      "15 x 1 = 135\n",
      "15 x 1 = 150\n"
     ]
    }
   ],
   "source": [
    "# table without loop:-\n",
    "n=int(input(\"Enter a number\"))\n",
    "print(\"Table of\",n)\n",
    "print(n,'x',1,'=',n*1)\n",
    "print(n,'x',1,'=',n*2)\n",
    "print(n,'x',1,'=',n*3)\n",
    "print(n,'x',1,'=',n*4)\n",
    "print(n,'x',1,'=',n*5)\n",
    "print(n,'x',1,'=',n*6)\n",
    "print(n,'x',1,'=',n*7)\n",
    "print(n,'x',1,'=',n*8)\n",
    "print(n,'x',1,'=',n*9)\n",
    "print(n,'x',1,'=',n*10)"
   ]
  },
  {
   "cell_type": "code",
   "execution_count": 11,
   "metadata": {},
   "outputs": [
    {
     "name": "stdout",
     "output_type": "stream",
     "text": [
      "enter a number 5\n",
      "Table of 5\n",
      "5 x 1 = 5\n",
      "5 x 2 = 10\n",
      "5 x 3 = 15\n",
      "5 x 4 = 20\n",
      "5 x 5 = 25\n",
      "5 x 6 = 30\n",
      "5 x 7 = 35\n",
      "5 x 8 = 40\n",
      "5 x 9 = 45\n",
      "5 x 10 = 50\n",
      "done\n"
     ]
    }
   ],
   "source": [
    "# table with while loop:-\n",
    "n=int(input(\"enter a number \"))\n",
    "print(\"Table of\",n)\n",
    "i=1\n",
    "while (i<=10):\n",
    "    print(n,'x',i,'=',n*i)\n",
    "    i+=1\n",
    "print(\"done\")"
   ]
  },
  {
   "cell_type": "code",
   "execution_count": 17,
   "metadata": {},
   "outputs": [
    {
     "name": "stdout",
     "output_type": "stream",
     "text": [
      "22\n",
      "3\n",
      "4\n",
      "56\n",
      "7\n",
      "-1\n"
     ]
    }
   ],
   "source": [
    "# Traking the loop\n",
    "n=int(input())\n",
    "while (n!=-1): #read reamining number inside the loop.\n",
    "    n=int(input())"
   ]
  },
  {
   "cell_type": "code",
   "execution_count": 1,
   "metadata": {},
   "outputs": [
    {
     "name": "stdout",
     "output_type": "stream",
     "text": [
      "6\n",
      "7\n",
      "-1\n"
     ]
    }
   ],
   "source": [
    "# fing largest no until -1\n",
    "n=int(input())\n",
    "max=n\n",
    "while (n!=-1):\n",
    "    n=int(input())\n",
    "    if max<n:\n",
    "        max=n"
   ]
  },
  {
   "cell_type": "code",
   "execution_count": null,
   "metadata": {},
   "outputs": [
    {
     "name": "stdout",
     "output_type": "stream",
     "text": [
      "7\n"
     ]
    }
   ],
   "source": [
    "#program\n",
    "n=int(input())\n",
    "x=1\n",
    "while (x<=n):\n",
    "    if(x%3==0) or (x%5==0):\n",
    "        print(x)\n",
    "        x+=1"
   ]
  },
  {
   "cell_type": "code",
   "execution_count": 1,
   "metadata": {},
   "outputs": [
    {
     "name": "stdout",
     "output_type": "stream",
     "text": [
      "3\n",
      "5\n",
      "6\n",
      "8\n",
      "-1\n",
      "sum= 22\n"
     ]
    }
   ],
   "source": [
    "# L-14\n",
    "# BREAK AND CONTINUE:\n",
    "#BREAK:-\n",
    "sum=0\n",
    "for i in range(100):\n",
    "    value=int(input())\n",
    "    if (value<0):\n",
    "        break\n",
    "    sum=sum+value\n",
    "print(\"sum=\",sum)"
   ]
  },
  {
   "cell_type": "code",
   "execution_count": 1,
   "metadata": {},
   "outputs": [
    {
     "name": "stdout",
     "output_type": "stream",
     "text": [
      "5\n",
      "3\n",
      "-2\n",
      "6\n",
      "-1\n",
      "sum= 14\n"
     ]
    }
   ],
   "source": [
    "#CONTUNUE:-\n",
    "sum=0\n",
    "for i in range(5):\n",
    "    value=int(input())\n",
    "    if (value<0):\n",
    "        continue\n",
    "    sum=sum+value\n",
    "print(\"sum=\",sum)"
   ]
  },
  {
   "cell_type": "code",
   "execution_count": null,
   "metadata": {},
   "outputs": [
    {
     "name": "stdout",
     "output_type": "stream",
     "text": [
      "1 "
     ]
    }
   ],
   "source": [
    "#print all odd numbers\n",
    "i=1\n",
    "while i<=10:\n",
    "    if i%2==0:\n",
    "        continue\n",
    "    print(i,end=' ')\n",
    "    i=i+1\n"
   ]
  },
  {
   "cell_type": "code",
   "execution_count": 1,
   "metadata": {},
   "outputs": [
    {
     "name": "stdout",
     "output_type": "stream",
     "text": [
      "hello\n"
     ]
    }
   ],
   "source": [
    "#FUNTION:-\n",
    "def greet_user():\n",
    "    print(\"hello\")\n",
    "greet_user()"
   ]
  },
  {
   "cell_type": "code",
   "execution_count": 2,
   "metadata": {},
   "outputs": [
    {
     "name": "stdout",
     "output_type": "stream",
     "text": [
      "hello,Jitendra Kumar\n"
     ]
    }
   ],
   "source": [
    "#example\n",
    "def greet_user(username):\n",
    "    print(f\"hello,{username.title()}\")\n",
    "greet_user('jitendra kumar')"
   ]
  },
  {
   "cell_type": "code",
   "execution_count": 6,
   "metadata": {},
   "outputs": [
    {
     "name": "stdout",
     "output_type": "stream",
     "text": [
      "\n",
      "i have a cat\n",
      "My cat's name is Victory\n",
      "\n",
      "i have a dog\n",
      "My dog's name is Willie\n"
     ]
    }
   ],
   "source": [
    "# Example of multiple parameter and arguments:-\n",
    "def describe_pet(animal_type,pet_name):\n",
    "    print(f\"\\ni have a {animal_type}\")\n",
    "    print(f\"My {animal_type}'s name is {pet_name.title()}\")\n",
    "describe_pet('cat','victory')\n",
    "describe_pet('dog','willie')"
   ]
  },
  {
   "cell_type": "code",
   "execution_count": 7,
   "metadata": {},
   "outputs": [
    {
     "name": "stdout",
     "output_type": "stream",
     "text": [
      "\n",
      "i have a victory\n",
      "My victory's name is Cat\n"
     ]
    }
   ],
   "source": [
    "# POSITION Example\n",
    "def describe_pet(animal_type,pet_name):\n",
    "    print(f\"\\ni have a {animal_type}\")\n",
    "    print(f\"My {animal_type}'s name is {pet_name.title()}\")\n",
    "describe_pet('victory','cat')"
   ]
  },
  {
   "cell_type": "code",
   "execution_count": 10,
   "metadata": {},
   "outputs": [
    {
     "name": "stdout",
     "output_type": "stream",
     "text": [
      "\n",
      "i have a cat\n",
      "My cat's name is Victory\n",
      "\n",
      "i have a cat\n",
      "My cat's name is Victory\n"
     ]
    }
   ],
   "source": [
    "#Keyword Argument:-\n",
    "def describe_pet(animal_type,pet_name):\n",
    "    print(f\"\\ni have a {animal_type}\")\n",
    "    print(f\"My {animal_type}'s name is {pet_name.title()}\")\n",
    "describe_pet(animal_type='cat',pet_name='victory')\n",
    "describe_pet(pet_name='victory',animal_type='cat')"
   ]
  },
  {
   "cell_type": "code",
   "execution_count": 12,
   "metadata": {},
   "outputs": [
    {
     "name": "stdout",
     "output_type": "stream",
     "text": [
      "\n",
      "i have a dog\n",
      "My dog's name is Willie\n"
     ]
    }
   ],
   "source": [
    "# Default value\n",
    "def describe_pet(pet_name,animal_type='dog'):\n",
    "    print(f\"\\ni have a {animal_type}\")\n",
    "    print(f\"My {animal_type}'s name is {pet_name.title()}\")\n",
    "describe_pet(pet_name='willie')"
   ]
  },
  {
   "cell_type": "code",
   "execution_count": 2,
   "metadata": {},
   "outputs": [
    {
     "ename": "TypeError",
     "evalue": "describe_pet() missing 2 required positional arguments: 'animal_type' and 'pet_name'",
     "output_type": "error",
     "traceback": [
      "\u001b[1;31m---------------------------------------------------------------------------\u001b[0m",
      "\u001b[1;31mTypeError\u001b[0m                                 Traceback (most recent call last)",
      "\u001b[1;32m<ipython-input-2-6d8f7672436e>\u001b[0m in \u001b[0;36m<module>\u001b[1;34m\u001b[0m\n\u001b[0;32m      4\u001b[0m     \u001b[0mprint\u001b[0m\u001b[1;33m(\u001b[0m\u001b[1;34mf\"\\ni have a {animal_type}.\"\u001b[0m\u001b[1;33m)\u001b[0m\u001b[1;33m\u001b[0m\u001b[1;33m\u001b[0m\u001b[0m\n\u001b[0;32m      5\u001b[0m     \u001b[0mprint\u001b[0m\u001b[1;33m(\u001b[0m\u001b[1;34mf\"My {aniaml_type}'s name is {pet_name.title()}\"\u001b[0m\u001b[1;33m)\u001b[0m\u001b[1;33m\u001b[0m\u001b[1;33m\u001b[0m\u001b[0m\n\u001b[1;32m----> 6\u001b[1;33m \u001b[0mdescribe_pet\u001b[0m\u001b[1;33m(\u001b[0m\u001b[1;33m)\u001b[0m\u001b[1;33m\u001b[0m\u001b[1;33m\u001b[0m\u001b[0m\n\u001b[0m",
      "\u001b[1;31mTypeError\u001b[0m: describe_pet() missing 2 required positional arguments: 'animal_type' and 'pet_name'"
     ]
    }
   ],
   "source": [
    "# L=15\n",
    "#Avoiding argument error\n",
    "def describe_pet(animal_type,pet_name):\n",
    "    print(f\"\\ni have a {animal_type}.\")\n",
    "    print(f\"My {aniaml_type}'s name is {pet_name.title()}\")\n",
    "describe_pet()"
   ]
  },
  {
   "cell_type": "code",
   "execution_count": 3,
   "metadata": {},
   "outputs": [
    {
     "name": "stdout",
     "output_type": "stream",
     "text": [
      "Ravi Shankar\n"
     ]
    }
   ],
   "source": [
    "# Return value with funtion\n",
    "def get_formatted_name(first_name,last_name):\n",
    "    full_name=(f\"{first_name} {last_name}\")\n",
    "    return full_name.title()\n",
    "musician=get_formatted_name('ravi','shankar')\n",
    "print(musician)"
   ]
  },
  {
   "cell_type": "code",
   "execution_count": 5,
   "metadata": {},
   "outputs": [
    {
     "name": "stdout",
     "output_type": "stream",
     "text": [
      "A R Rehman\n"
     ]
    }
   ],
   "source": [
    "# Example\n",
    "def get_formatted_name(first_name,middle_name,last_name):\n",
    "    full_name=(f\"{first_name} {middle_name} {last_name}\")\n",
    "    return full_name.title()\n",
    "\n",
    "musician=get_formatted_name('a','r','rehman')\n",
    "print(musician)"
   ]
  },
  {
   "cell_type": "code",
   "execution_count": 26,
   "metadata": {},
   "outputs": [
    {
     "name": "stdout",
     "output_type": "stream",
     "text": [
      "A Rehman R\n"
     ]
    }
   ],
   "source": [
    "# Example with if condition\n",
    "def get_formatted_name(first_name,last_name,middle_name=''):\n",
    "    if middle_name:\n",
    "        full_name=(f\"{first_name} {middle_name} {last_name}\")\n",
    "    else:\n",
    "        full_name=(f\"{first_name} {last_name}\")\n",
    "    return full_name.title()\n",
    "musician=get_formatted_name('ravi','shankar')\n",
    "\n",
    "musician=get_formatted_name('a','r','rehman')\n",
    "print(musician)"
   ]
  },
  {
   "cell_type": "code",
   "execution_count": 25,
   "metadata": {},
   "outputs": [
    {
     "name": "stdout",
     "output_type": "stream",
     "text": [
      "{'first': 'ravi', 'last': 'shankar'}\n"
     ]
    }
   ],
   "source": [
    "# example with dictionary\n",
    "def build_person(first_name,last_name):\n",
    "    person={'first':first_name,'last': last_name}\n",
    "    return person\n",
    "musician=build_person('ravi','shankar')\n",
    "print(musician)"
   ]
  },
  {
   "cell_type": "code",
   "execution_count": 36,
   "metadata": {},
   "outputs": [
    {
     "name": "stdout",
     "output_type": "stream",
     "text": [
      "{'first': 'ravi', 'last': 'shankar', 'age': 92}\n"
     ]
    }
   ],
   "source": [
    "#example with person'age\n",
    "def build_person(first_name,last_name,age='non'):\n",
    "    person={'first':first_name,'last': last_name}\n",
    "    if age:\n",
    "        person['age']=age\n",
    "    return person\n",
    "musician=build_person('ravi','shankar',age=92)\n",
    "print(musician)\n",
    "        "
   ]
  },
  {
   "cell_type": "code",
   "execution_count": 39,
   "metadata": {},
   "outputs": [
    {
     "name": "stdout",
     "output_type": "stream",
     "text": [
      "\n",
      "Please tell me your name\n",
      "(enter 'q' at any time to quit)\n",
      "first_namejitendra\n",
      "last_nameraj\n",
      "\n",
      "Please tell me your name\n",
      "(enter 'q' at any time to quit)\n",
      "first_nameq\n",
      "\n",
      "Hello, Q Raj\n"
     ]
    }
   ],
   "source": [
    " # Example fo quit at any time\n",
    "def get_foematted_name(first_name,last_name):\n",
    "    full_naame=(f\"{first_name} {last_name}\")\n",
    "    return full_name.title()\n",
    "while True:\n",
    "    print(\"\\nPlease tell me your name\")\n",
    "    print(\"(enter 'q' at any time to quit)\")\n",
    "    f_name=input('first_name')\n",
    "    if f_name=='q':\n",
    "        break\n",
    "    l_name=input('last_name')\n",
    "    if l_name=='q':\n",
    "        break\n",
    "formatted_name=get_formatted_name(f_name,l_name)\n",
    "print(f\"\\nHello, {formatted_name}\")\n",
    "    "
   ]
  },
  {
   "cell_type": "code",
   "execution_count": 1,
   "metadata": {},
   "outputs": [
    {
     "name": "stdout",
     "output_type": "stream",
     "text": [
      "Hello,Dhruv\n",
      "Hello,Ishita\n",
      "Hello,Prachi\n"
     ]
    }
   ],
   "source": [
    "# PASSING A LIST WITH FUNTIION:-\n",
    "def greet_users(names):\n",
    "    for name in names:\n",
    "        msg=(f\"Hello,{name.title()}\")\n",
    "        print(msg)\n",
    "usernames=['dhruv','ishita','prachi']\n",
    "greet_users(usernames)"
   ]
  },
  {
   "cell_type": "code",
   "execution_count": 3,
   "metadata": {},
   "outputs": [
    {
     "name": "stdout",
     "output_type": "stream",
     "text": [
      "printing model: cube\n",
      "printing model: robot pedent\n",
      "printing model: phhone case\n",
      "\n",
      "the following models have been printed\n",
      "cube\n",
      "robot pedent\n",
      "phhone case\n"
     ]
    }
   ],
   "source": [
    "#modifying a list\n",
    "unprinted_designs=['phhone case','robot pedent','cube']\n",
    "completed_models=[]\n",
    "\n",
    "while unprinted_designs:\n",
    "    current_design=unprinted_designs.pop()\n",
    "    print(f\"printing model: {current_design}\")\n",
    "    completed_models.append(current_design)\n",
    "print(\"\\nthe following models have been printed\")\n",
    "for completed_model in completed_models:\n",
    "    print(completed_model)"
   ]
  },
  {
   "cell_type": "code",
   "execution_count": 15,
   "metadata": {},
   "outputs": [
    {
     "name": "stdout",
     "output_type": "stream",
     "text": [
      "printing models:code\n",
      "printing models:robot pedant\n",
      "printing models:phone case\n",
      "\n",
      "The following mogels have been printed\n",
      "code\n",
      "robot pedant\n",
      "phone case\n"
     ]
    }
   ],
   "source": [
    "#Example with funtion\n",
    "def print_models(unprinted_designs,completed_models):\n",
    "    while unprinted_designs:\n",
    "        current_design=unprinted_designs.pop()\n",
    "        print(f\"printing models:{current_design}\")\n",
    "        completed_models.append(current_design)\n",
    "        \n",
    "def show_completed_models(completed_models):\n",
    "    print(\"\\nThe following mogels have been printed\")\n",
    "    for completed_model in completed_models:\n",
    "        print(completed_model)\n",
    "        \n",
    "unprinted_designs=['phone case','robot pedant','code']\n",
    "completed_models=[]\n",
    "print_models(unprinted_designs,completed_models)\n",
    "show_completed_models(completed_models)"
   ]
  },
  {
   "cell_type": "code",
   "execution_count": 17,
   "metadata": {},
   "outputs": [
    {
     "name": "stdout",
     "output_type": "stream",
     "text": [
      "('veggie',)\n",
      "('onion', 'tomato', 'cheese')\n"
     ]
    }
   ],
   "source": [
    "#w-6\n",
    "#l-16\n",
    "# passing an arbitrary number of arguments\n",
    "#Example-\n",
    "def make_pizza(*toppings):\n",
    "    print(toppings)\n",
    "make_pizza('veggie')\n",
    "make_pizza('onion','tomato','cheese')\n",
    " "
   ]
  },
  {
   "cell_type": "code",
   "execution_count": 18,
   "metadata": {},
   "outputs": [
    {
     "name": "stdout",
     "output_type": "stream",
     "text": [
      "\n",
      "making the pizza with the following toppings\n",
      "-veggie\n",
      "\n",
      "making the pizza with the following toppings\n",
      "-onion\n",
      "-tomato\n",
      "-cheese\n"
     ]
    }
   ],
   "source": [
    "def make_pizza(*toppings):\n",
    "    print(\"\\nmaking the pizza with the following toppings\")\n",
    "    for topping in toppings:\n",
    "        print(f\"-{topping}\")\n",
    "make_pizza('veggie')\n",
    "make_pizza('onion','tomato','cheese')\n",
    "    "
   ]
  },
  {
   "cell_type": "code",
   "execution_count": 21,
   "metadata": {},
   "outputs": [
    {
     "name": "stdout",
     "output_type": "stream",
     "text": [
      "\n",
      "making a 16-inch the pizza with the following toppings\n",
      "-veggie\n",
      "\n",
      "making a 12-inch the pizza with the following toppings\n",
      "-onion\n",
      "-tomato\n",
      "-cheese\n"
     ]
    }
   ],
   "source": [
    "#Mixing positional and arbitrary arguments\n",
    "def make_pizza(size,*toppings):\n",
    "    print(f\"\\nmaking a {size}-inch the pizza with the following toppings\")\n",
    "    for topping in toppings:\n",
    "        print(f\"-{topping}\")\n",
    "make_pizza(16,'veggie')\n",
    "make_pizza(12,'onion','tomato','cheese')\n",
    "    "
   ]
  },
  {
   "cell_type": "code",
   "execution_count": 27,
   "metadata": {},
   "outputs": [
    {
     "name": "stdout",
     "output_type": "stream",
     "text": [
      "{'location': 'iitkanpur', 'field': 'ict', 'first_name': 'rahul', 'last_name': 'garg'}\n"
     ]
    }
   ],
   "source": [
    "# using arbitrary keyword arguments:\n",
    "def build_profile(first,last,**user_info):\n",
    "    user_info['first_name']=first\n",
    "    user_info['last_name']=last\n",
    "    return user_info\n",
    "user_profile=build_profile('rahul','garg',location='iitkanpur',field='ict')\n",
    "print(user_profile)"
   ]
  },
  {
   "cell_type": "code",
   "execution_count": null,
   "metadata": {},
   "outputs": [],
   "source": [
    "# Storing your fun in moduls:\n"
   ]
  }
 ],
 "metadata": {
  "kernelspec": {
   "display_name": "Python 3",
   "language": "python",
   "name": "python3"
  },
  "language_info": {
   "codemirror_mode": {
    "name": "ipython",
    "version": 3
   },
   "file_extension": ".py",
   "mimetype": "text/x-python",
   "name": "python",
   "nbconvert_exporter": "python",
   "pygments_lexer": "ipython3",
   "version": "3.7.3"
  }
 },
 "nbformat": 4,
 "nbformat_minor": 2
}

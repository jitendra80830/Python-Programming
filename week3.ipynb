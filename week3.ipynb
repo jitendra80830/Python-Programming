{
 "cells": [
  {
   "cell_type": "code",
   "execution_count": 32,
   "metadata": {},
   "outputs": [
    {
     "name": "stdout",
     "output_type": "stream",
     "text": [
      "(['badmintal', 'table-tennis', 'carrom'], ['football', 'cricket'])\n",
      "['badmintal', 'table-tennis', 'carrom']\n",
      "(['badmintal', 'table-tennis', 'carrom'], ['football', 'cricket'])\n",
      "(['badmintal', 'table-tennis', 'carrom'], ['hockey', 'cricket'])\n",
      "(['badmintal', 'table-tennis', 'carrom'], ['hockey', 'cricket'], ['solitaire', 'heart', 'freecall'])\n"
     ]
    },
    {
     "data": {
      "text/plain": [
       "True"
      ]
     },
     "execution_count": 32,
     "metadata": {},
     "output_type": "execute_result"
    }
   ],
   "source": [
    "# week 3\n",
    "# mutable and immitable:-\n",
    "# Example:\n",
    "indoor=['badmintal','table-tennis','carrom']\n",
    "outdoor=['football','cricket']\n",
    "games=(indoor,outdoor)\n",
    "print(games)\n",
    "\n",
    "#card=['solitair','heart','freecall']  #if you change\n",
    "print(games[0])\n",
    "#games[0]=card # don't work\n",
    "\n",
    "games1=(['badmintal','table-tennis','carrom'],['football','cricket'],['solitaire','heart','freecall'])\n",
    "print(games1[:2])\n",
    "\n",
    "games1[:2]==games\n",
    "outdoor[0]='hockey'#if youb change,ok,list is mutable\n",
    "\n",
    "games1[:2]==games\n",
    "print(games)\n",
    "\n",
    "games1[1][0]='hockey'\n",
    "print(games1)\n",
    "#NOW\n",
    "games1[:2]==games"
   ]
  },
  {
   "cell_type": "code",
   "execution_count": 10,
   "metadata": {},
   "outputs": [
    {
     "name": "stdout",
     "output_type": "stream",
     "text": [
      "[1, 4, 9, 16, 25, 36, 49, 64, 81, 100]\n",
      "[25, 9, 5]\n",
      "[1, 900]\n",
      "[(-1, 1), (25, 25), (9, 9), (-30, 30), (5, 5)]\n"
     ]
    }
   ],
   "source": [
    "#list comoprehension \n",
    "a=[x*x for x in range(1,11)]\n",
    "print(a)\n",
    "nums=[-1,25,9,-30,5]\n",
    "pos=[x for x in nums if x>0]\n",
    "print(pos)\n",
    "sqneg=[x*x for x in nums if x<0]\n",
    "print(sqneg)\n",
    "\n",
    "abspair=[(x,abs(x)) for x in nums]\n",
    "print(abspair)"
   ]
  },
  {
   "cell_type": "code",
   "execution_count": 12,
   "metadata": {},
   "outputs": [
    {
     "name": "stdout",
     "output_type": "stream",
     "text": [
      "[(2, 4), (3, 9)]\n",
      "[(2, 4), (3, 9), (4, 16), (5, 25), (6, 36), (7, 49)]\n"
     ]
    }
   ],
   "source": [
    "# Evaluation of list comprehension:\n",
    "b=[(x,y) for x in [1,2,3] for y in [12,9,27,4,50] if x*x==y]\n",
    "print(b)\n",
    "\n",
    "value=[2,3,4,5,6,7]\n",
    "value1=[4,9,16,25,36,49]\n",
    "c=[(x,y) for x in value  for y in value1 if x*x==y]\n",
    "print(c)"
   ]
  },
  {
   "cell_type": "code",
   "execution_count": 2,
   "metadata": {},
   "outputs": [
    {
     "name": "stdout",
     "output_type": "stream",
     "text": [
      "{'orange', 'apple', 'pear'}\n",
      "<class 'set'>\n",
      "{'c', 's', 'a', 'd'}\n",
      "{'e', 'i', 't', 's', 'n', 'u'}\n",
      "{'c', 'a', 'd'}\n",
      "{'a', 'e', 'i', 'd', 't', 's', 'n', 'c', 'u'}\n",
      "{'s'}\n",
      "{'a', 'e', 'd', 'c', 'u', 'i', 't', 'n'}\n",
      "True\n",
      "False\n"
     ]
    }
   ],
   "source": [
    "# SETS:-\n",
    "basket=['apple','orange','apple','pear','orange']\n",
    "fruits=set(basket)\n",
    "print(fruits)\n",
    "print(type(fruits))\n",
    "\n",
    "a=set('acads')\n",
    "b=set('institute')\n",
    "print(a)\n",
    "print(b)\n",
    "\n",
    "c=(a-b)\n",
    "print(c)\n",
    "\n",
    "union=(a|b)\n",
    "print(union)\n",
    "\n",
    "intersection=(a&b)\n",
    "print(intersection)\n",
    "\n",
    "symetric=(a^b)#a-b,b-a\n",
    "print(symetric)\n",
    "\n",
    "print('apple' in fruits)\n",
    "print('mango' in fruits)"
   ]
  },
  {
   "cell_type": "code",
   "execution_count": 28,
   "metadata": {},
   "outputs": [
    {
     "name": "stdout",
     "output_type": "stream",
     "text": [
      "(2, 4)\n",
      "(3, 9)\n",
      "(4, 16)\n",
      "(5, 25)\n",
      "(6, 36)\n",
      "(7, 49)\n"
     ]
    }
   ],
   "source": [
    "# iF STATEMENT:-\n",
    "value=[2,3,4,5,6,7]\n",
    "value1=[4,9,16,25,36,49]\n",
    "for x in value:\n",
    "    for y in value1:\n",
    "        if x*x==y:\n",
    "            print((x,y))"
   ]
  },
  {
   "cell_type": "code",
   "execution_count": 38,
   "metadata": {},
   "outputs": [
    {
     "name": "stdout",
     "output_type": "stream",
     "text": [
      "Audi\n",
      "BMW\n",
      "Subaru\n",
      "Toyota\n"
     ]
    }
   ],
   "source": [
    "# one moe ex.\n",
    "cars=['audi','bmw','subaru','toyota']\n",
    "for car in cars:\n",
    "    if car=='bmw':\n",
    "        print(car.upper())\n",
    "    else:\n",
    "            print(car.title())\n",
    "    "
   ]
  },
  {
   "cell_type": "code",
   "execution_count": 35,
   "metadata": {},
   "outputs": [
    {
     "name": "stdout",
     "output_type": "stream",
     "text": [
      "True\n"
     ]
    }
   ],
   "source": [
    "# cheking for equality:\n",
    "car='bmw'\n",
    "print(car=='bmw')"
   ]
  },
  {
   "cell_type": "code",
   "execution_count": 7,
   "metadata": {},
   "outputs": [
    {
     "name": "stdout",
     "output_type": "stream",
     "text": [
      "hold the anchovies\n"
     ]
    }
   ],
   "source": [
    "# cheking for inequal\n",
    "requested_topping='mashrooms'\n",
    "if requested_topping!='anchovies':\n",
    "    print(\"hold the anchovies\")"
   ]
  },
  {
   "cell_type": "code",
   "execution_count": 30,
   "metadata": {},
   "outputs": [
    {
     "name": "stdout",
     "output_type": "stream",
     "text": [
      "True\n"
     ]
    }
   ],
   "source": [
    "#numerical  comprasons\n",
    "age=18\n",
    "print(age==18)\n",
    "    "
   ]
  },
  {
   "cell_type": "code",
   "execution_count": 11,
   "metadata": {},
   "outputs": [
    {
     "name": "stdout",
     "output_type": "stream",
     "text": [
      "that is not the exact answer.please try again\n"
     ]
    }
   ],
   "source": [
    "answer=17\n",
    "if answer!=42:\n",
    "    print(\"that is not the exact answer.please try again\")"
   ]
  },
  {
   "cell_type": "code",
   "execution_count": 34,
   "metadata": {},
   "outputs": [
    {
     "name": "stdout",
     "output_type": "stream",
     "text": [
      "True\n",
      "True\n",
      "False\n",
      "False\n"
     ]
    }
   ],
   "source": [
    "age=19\n",
    "print(age<21)\n",
    "print(age<=21)\n",
    "print(age>21)\n",
    "print(age>=21)"
   ]
  },
  {
   "cell_type": "code",
   "execution_count": 3,
   "metadata": {},
   "outputs": [
    {
     "name": "stdout",
     "output_type": "stream",
     "text": [
      "False\n",
      "True\n"
     ]
    }
   ],
   "source": [
    "# LECTURE-8\n",
    "#using 'and' to cheking multiple conditions:-\n",
    "age_0=22\n",
    "age_1=18\n",
    "print(age_0>21 and age_1>21)\n",
    "age_1=22\n",
    "print(age_0>=22 and age_1>=22)\n"
   ]
  },
  {
   "cell_type": "code",
   "execution_count": 7,
   "metadata": {},
   "outputs": [
    {
     "name": "stdout",
     "output_type": "stream",
     "text": [
      "True\n",
      "False\n",
      "True\n",
      "False\n"
     ]
    }
   ],
   "source": [
    "# using 'or' to chek multiple condition:-\n",
    "age_0=22\n",
    "age_1=18\n",
    "print(age_0>21 or age_1>21)\n",
    "age_0=18\n",
    "print(age_0>=21 or age_1>=21)\n",
    "\n",
    "a=20\n",
    "b=21\n",
    "print(a>=20 or b>=22)\n",
    "print(a>=21 or b>=22)"
   ]
  },
  {
   "cell_type": "code",
   "execution_count": 13,
   "metadata": {},
   "outputs": [
    {
     "name": "stdout",
     "output_type": "stream",
     "text": [
      "True\n",
      "False\n",
      "True\n",
      "False\n"
     ]
    }
   ],
   "source": [
    "# checking whether a value is 'in' a list:-\n",
    "requested_toppings=['mushrooms','onion','pineapple']\n",
    "print('mushrooms' in requested_toppings)\n",
    "print('pipperoni' in requested_toppings)\n",
    "\n",
    "my_friends=['bimlesh','neeraj','suraj','sammir']\n",
    "print('bimlesh' in my_friends)\n",
    "print('ritesh' in my_friends)"
   ]
  },
  {
   "cell_type": "code",
   "execution_count": 17,
   "metadata": {},
   "outputs": [
    {
     "name": "stdout",
     "output_type": "stream",
     "text": [
      "Marie,you can post response if you wish\n",
      "Ritesh,is not in my friend list,than you can go from here Ritesh.\n"
     ]
    }
   ],
   "source": [
    "# checking whether a value is 'not in' a list:-\n",
    "band_users=['andrew','carolina','david']\n",
    "user='Marie'\n",
    "if user not in band_users:\n",
    "    print(f\"{user.title()},you can post response if you wish\")\n",
    "my_friends=['bimlesh','neeraj','suraj','sammir']\n",
    "friend='ritesh'\n",
    "if friend not in my_friends:\n",
    "    print(f\"{friend.title()},is not in my friend list,than you can go from here {friend.title()}.\")\n",
    "    "
   ]
  },
  {
   "cell_type": "code",
   "execution_count": 1,
   "metadata": {},
   "outputs": [
    {
     "name": "stdout",
     "output_type": "stream",
     "text": [
      "you are old anough to vote.\n",
      "are you registered to vote yet\n"
     ]
    }
   ],
   "source": [
    "#simple if statement:-\n",
    "age=19\n",
    "if age>=18:\n",
    "    print(\"you are old anough to vote.\")\n",
    "    print(\"are you registered to vote yet\")"
   ]
  },
  {
   "cell_type": "code",
   "execution_count": 4,
   "metadata": {},
   "outputs": [
    {
     "name": "stdout",
     "output_type": "stream",
     "text": [
      "sorry,you are too young to vote\n",
      "please register to vote soon as you tern 18!\n"
     ]
    }
   ],
   "source": [
    "# iF else STATEMENTS:-\n",
    "age=17\n",
    "if age>=18:\n",
    "    print(\"you are old enough to vote\")\n",
    "else:\n",
    "        print(\"sorry,you are too young to vote\")\n",
    "        print(\"please register to vote soon as you tern 18!\")\n",
    "        "
   ]
  },
  {
   "cell_type": "code",
   "execution_count": 1,
   "metadata": {},
   "outputs": [
    {
     "name": "stdout",
     "output_type": "stream",
     "text": [
      "your addmission cost is 40 rupees\n",
      "your addmission cost is 30 rupees\n"
     ]
    }
   ],
   "source": [
    "# if-elif-else chain:-\n",
    "age=19\n",
    "if age<4:\n",
    "    print(\"your addmission cost is 0 rupees\")\n",
    "elif age<=18:\n",
    "        print(\"your addmission cost is 25 rupees\")\n",
    "else:\n",
    "            print(\"your addmission cost is 40 rupees\")\n",
    "age=12\n",
    "if age<=5:\n",
    "    price=0\n",
    "elif age>=18:\n",
    "    price=20\n",
    "else:\n",
    "    price=30\n",
    "print(f\"your addmission cost is {price} rupees\")\n",
    "        "
   ]
  },
  {
   "cell_type": "code",
   "execution_count": 43,
   "metadata": {},
   "outputs": [
    {
     "name": "stdout",
     "output_type": "stream",
     "text": [
      "adding mushrooms\n",
      "adding extra cheese\n",
      "\n",
      " finished making your pizza\n"
     ]
    }
   ],
   "source": [
    "# example of only if condition:-\n",
    "requested_topping=['mushrooms','extra cheese']\n",
    "if 'mushrooms' in requested_topping:\n",
    "    print(\"adding mushrooms\")\n",
    "if 'pipperoni' in requested_topping:\n",
    "        print(\"adding pipperoni\")\n",
    "if 'extra cheese' in requested_topping:\n",
    "            print(\"adding extra cheese\")\n",
    "            \n",
    "print(\"\\n finished making your pizza\")"
   ]
  },
  {
   "cell_type": "code",
   "execution_count": 1,
   "metadata": {},
   "outputs": [
    {
     "name": "stdout",
     "output_type": "stream",
     "text": [
      "adding mashrooms\n",
      "\n",
      "Finished making your pizza.\n"
     ]
    }
   ],
   "source": [
    "# example of multiple elif condion:\n",
    "requested_topping=['mushrooms','exrta cheese']\n",
    "if 'mushrooms' in requested_topping:\n",
    "    print(\"adding mashrooms\")\n",
    "elif 'pipperoni' in requested_topping:\n",
    "        print(\"adding pipperoni\")\n",
    "elif 'extra cheese' in requested_topping:\n",
    "            print(\"adding extra cheese\")\n",
    "print(\"\\nFinished making your pizza.\")            \n",
    "            "
   ]
  },
  {
   "cell_type": "code",
   "execution_count": 5,
   "metadata": {},
   "outputs": [
    {
     "name": "stdout",
     "output_type": "stream",
     "text": [
      "addingmushrooms.\n",
      "addinggreen papper.\n",
      "addingexrta cheese.\n",
      "\n",
      "Finished making your pizza\n"
     ]
    }
   ],
   "source": [
    "# examples:\n",
    "requested_topping=['mushrooms','green papper','exrta cheese']\n",
    "for requested_topping in requested_topping:\n",
    "    print(f\"adding{requested_topping}.\")\n",
    "print(\"\\nFinished making your pizza\")    "
   ]
  },
  {
   "cell_type": "code",
   "execution_count": 20,
   "metadata": {},
   "outputs": [
    {
     "name": "stdout",
     "output_type": "stream",
     "text": [
      "adding['mushrooms', 'green papper', 'exrta cheese'].\n"
     ]
    }
   ],
   "source": [
    "# example:\n",
    "requested_topping=['mushrooms','green papper','exrta cheese']\n",
    "if requested_topping in requested_topping:\n",
    "    if requested_topping=='green papper':\n",
    "        print(\"sorry,we are out of green papper right now.\")\n",
    "else:\n",
    "        print(f\"adding{requested_topping}.\")"
   ]
  },
  {
   "cell_type": "code",
   "execution_count": 25,
   "metadata": {},
   "outputs": [
    {
     "name": "stdout",
     "output_type": "stream",
     "text": [
      "Are you sure want a plain pizza?\n"
     ]
    }
   ],
   "source": [
    "#Cheking that a list is not empty:-\n",
    "requested_topping=[]\n",
    "for requested_topping in requested_topping:\n",
    "    print(f\"adding{requested_topping}.\")\n",
    "    print(\"\\nFinished making your pizza\")\n",
    "else:\n",
    "        print(\"Are you sure want a plain pizza?\")"
   ]
  },
  {
   "cell_type": "code",
   "execution_count": 51,
   "metadata": {},
   "outputs": [
    {
     "name": "stdout",
     "output_type": "stream",
     "text": [
      "sorry,we don't have mushrooms.\n",
      "\n",
      "Finished making your pizza!\n",
      "sorry,we don't have french fries.\n",
      "\n",
      "Finished making your pizza!\n",
      "sorry,we don't have exta cheese.\n",
      "\n",
      "Finished making your pizza!\n"
     ]
    }
   ],
   "source": [
    "# example of multiple list:-\n",
    "available_toppings=['mishrooms','olives','green pappers','pepporoni','pineapple','extra cheese']\n",
    "\n",
    "requested_toppings=['mushrooms','french fries','exta cheese']\n",
    "\n",
    "for requested_topping in requested_toppings:\n",
    "    if requested_topping in available_toppings:\n",
    "        print(f\"adding {requested_topping}.\")\n",
    "    else:\n",
    "        print(f\"sorry,we don't have {requested_topping}.\")\n",
    "    print(\"\\nFinished making your pizza!\")    "
   ]
  },
  {
   "cell_type": "code",
   "execution_count": 7,
   "metadata": {},
   "outputs": [
    {
     "name": "stdout",
     "output_type": "stream",
     "text": [
      "3\n",
      "is the minmum\n"
     ]
    }
   ],
   "source": [
    "# condition:-\n",
    "x=3\n",
    "y=4\n",
    "if x<y:\n",
    "    print(x)\n",
    "else:\n",
    "    print(y)\n",
    "print('is the minmum')    \n",
    "    "
   ]
  },
  {
   "cell_type": "code",
   "execution_count": 8,
   "metadata": {},
   "outputs": [
    {
     "name": "stdout",
     "output_type": "stream",
     "text": [
      "6\n",
      "is the minmum\n"
     ]
    }
   ],
   "source": [
    "# tracing execution of if-else:-\n",
    "x,y=6,10\n",
    "if x<y:\n",
    "    print(x)\n",
    "else:\n",
    "    print(y)\n",
    "print('is the minmum')    "
   ]
  },
  {
   "cell_type": "code",
   "execution_count": 15,
   "metadata": {},
   "outputs": [
    {
     "name": "stdout",
     "output_type": "stream",
     "text": [
      "no\n",
      "yior cost is 20 rupees\n",
      "\n",
      " are you get addmission form?\n"
     ]
    }
   ],
   "source": [
    "x,y=4,8\n",
    "if x>y:\n",
    "    print(x)\n",
    "print('no') \n",
    "\n",
    "age=12\n",
    "if age<=11:\n",
    "    print('no any  cost for addmosion')\n",
    "else:\n",
    "        print('yior cost is 20 rupees')\n",
    "print(\"\\n are you get addmission form?\")  "
   ]
  },
  {
   "cell_type": "code",
   "execution_count": 2,
   "metadata": {},
   "outputs": [
    {
     "name": "stdout",
     "output_type": "stream",
     "text": [
      "min= 4\n"
     ]
    }
   ],
   "source": [
    "# finding min of 3 numbers:-\n",
    "a,b,c=4,50,20\n",
    "if a<=b:\n",
    "    if a<=c:\n",
    "        print('min=',a)\n",
    "    else:\n",
    "        print('min=',c)\n",
    "else:\n",
    "    if b<=c:\n",
    "        print('min=',b)\n",
    "    else:\n",
    "        print('min=',c)\n",
    "        "
   ]
  },
  {
   "cell_type": "code",
   "execution_count": null,
   "metadata": {},
   "outputs": [],
   "source": []
  }
 ],
 "metadata": {
  "kernelspec": {
   "display_name": "Python 3",
   "language": "python",
   "name": "python3"
  },
  "language_info": {
   "codemirror_mode": {
    "name": "ipython",
    "version": 3
   },
   "file_extension": ".py",
   "mimetype": "text/x-python",
   "name": "python",
   "nbconvert_exporter": "python",
   "pygments_lexer": "ipython3",
   "version": "3.7.3"
  }
 },
 "nbformat": 4,
 "nbformat_minor": 2
}
